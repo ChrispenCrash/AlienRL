{
 "cells": [
  {
   "cell_type": "markdown",
   "metadata": {},
   "source": [
    "### Testing compatibility with Gymnasium and Stable-Baselines 3"
   ]
  },
  {
   "cell_type": "code",
   "execution_count": 1,
   "metadata": {},
   "outputs": [],
   "source": [
    "from stable_baselines3.common.env_checker import check_env\n",
    "from alienrl_env import AlienRLEnv"
   ]
  },
  {
   "cell_type": "code",
   "execution_count": 2,
   "metadata": {},
   "outputs": [
    {
     "name": "stderr",
     "output_type": "stream",
     "text": [
      "c:\\Users\\CHRIS\\miniconda3\\envs\\torch-gpu\\Lib\\site-packages\\stable_baselines3\\common\\env_checker.py:238: UserWarning: Your observation framestack has an unconventional shape (neither an image, nor a 1D vector). We recommend you to flatten the observation to have only a 1D vector or use a custom policy to properly process the data.\n",
      "  warnings.warn(\n"
     ]
    }
   ],
   "source": [
    "env = AlienRLEnv()\n",
    "\n",
    "try:\n",
    "    check_env( env, warn=True)\n",
    "except AssertionError as msg:\n",
    "    print(msg)\n",
    "\n",
    "env.close()"
   ]
  },
  {
   "cell_type": "markdown",
   "metadata": {},
   "source": [
    "***\n",
    "### Testing step and reset functions"
   ]
  },
  {
   "cell_type": "code",
   "execution_count": 1,
   "metadata": {},
   "outputs": [],
   "source": [
    "from AlienEnv.alienrl_env import AlienRLEnv"
   ]
  },
  {
   "cell_type": "code",
   "execution_count": 2,
   "metadata": {},
   "outputs": [],
   "source": [
    "env = AlienRLEnv()\n",
    "obs, info = env.reset(rewind_time=10)\n",
    "env.close()"
   ]
  },
  {
   "cell_type": "code",
   "execution_count": 3,
   "metadata": {},
   "outputs": [],
   "source": [
    "env = AlienRLEnv()"
   ]
  },
  {
   "cell_type": "code",
   "execution_count": 7,
   "metadata": {},
   "outputs": [],
   "source": [
    "env.controller.set_inputs(0, 1)"
   ]
  },
  {
   "cell_type": "code",
   "execution_count": 8,
   "metadata": {},
   "outputs": [],
   "source": [
    "env.close()"
   ]
  },
  {
   "cell_type": "code",
   "execution_count": 8,
   "metadata": {},
   "outputs": [
    {
     "name": "stdout",
     "output_type": "stream",
     "text": [
      "dict_keys(['framestack', 'telemetry'])\n",
      "(4, 3, 84, 84)\n",
      "(20,)\n"
     ]
    }
   ],
   "source": [
    "print(obs.keys())\n",
    "print(obs['framestack'].shape)\n",
    "print(obs['telemetry'].shape)"
   ]
  },
  {
   "cell_type": "code",
   "execution_count": 9,
   "metadata": {},
   "outputs": [],
   "source": [
    "env = AlienRLEnv()"
   ]
  },
  {
   "cell_type": "code",
   "execution_count": 10,
   "metadata": {},
   "outputs": [
    {
     "name": "stdout",
     "output_type": "stream",
     "text": [
      "dict_keys(['framestack', 'telemetry'])\n",
      "(4, 3, 84, 84)\n",
      "(20,)\n",
      "4.7100658412091435e-06\n",
      "False\n",
      "False\n",
      "{'x': -630.8347778320312, 'y': 2236.033447265625, 'z': 146.9149169921875, 'speed': 0.00023550329206045717, 'heading': 2.5384795665740967, 'gear': 1, 'steerAngle': 0.0, 'brake': 0.0, 'gas': 0.0, 'normalizedCarPosition': 0.007855255156755447, 'num_wheels_off_track': 0, 'fl_ws': 0.08056867122650146, 'fr_ws': 0.061119962483644485, 'rl_ws': 0.06868772208690643, 'rr_ws': 0.0761180967092514, 'fl_sus': 0.07570087909698486, 'fr_sus': 0.07855848968029022, 'rl_sus': 0.09778551757335663, 'rr_sus': 0.09249474853277206, 'paused': False}\n"
     ]
    }
   ],
   "source": [
    "# Steer straight and accelerate 20%\n",
    "obs, reward, terminated, truncated, info = env.step([0.0,0.2])\n",
    "\n",
    "print(obs.keys())\n",
    "print(obs['framestack'].shape)\n",
    "print(obs['telemetry'].shape)\n",
    "print(reward)\n",
    "print(terminated)\n",
    "print(truncated)\n",
    "print(info)"
   ]
  },
  {
   "cell_type": "code",
   "execution_count": 11,
   "metadata": {},
   "outputs": [
    {
     "name": "stdout",
     "output_type": "stream",
     "text": [
      "dict_keys(['framestack', 'telemetry'])\n",
      "(4, 3, 84, 84)\n",
      "(20,)\n",
      "4.151141329202801e-06\n",
      "False\n",
      "False\n",
      "{'x': -630.8349609375, 'y': 2236.03369140625, 'z': 146.9149169921875, 'speed': 0.00020755706646014005, 'heading': 2.5383386611938477, 'gear': 1, 'steerAngle': 0.0, 'brake': 0.0, 'gas': 0.0, 'normalizedCarPosition': 0.007855255156755447, 'num_wheels_off_track': 0, 'fl_ws': 0.08044897019863129, 'fr_ws': 0.061052341014146805, 'rl_ws': 0.06869396567344666, 'rr_ws': 0.07607688009738922, 'fl_sus': 0.07568617165088654, 'fr_sus': 0.07856009900569916, 'rl_sus': 0.09779678285121918, 'rr_sus': 0.0924929529428482, 'paused': False}\n"
     ]
    }
   ],
   "source": [
    "# Steer straight and accelerate 40%\n",
    "obs, reward, terminated, truncated, info = env.step([0.0,0.4])\n",
    "\n",
    "print(obs.keys())\n",
    "print(obs['framestack'].shape)\n",
    "print(obs['telemetry'].shape)\n",
    "print(reward)\n",
    "print(terminated)\n",
    "print(truncated)\n",
    "print(info)"
   ]
  },
  {
   "cell_type": "code",
   "execution_count": 12,
   "metadata": {},
   "outputs": [
    {
     "name": "stdout",
     "output_type": "stream",
     "text": [
      "dict_keys(['framestack', 'telemetry'])\n",
      "(4, 3, 84, 84)\n",
      "(20,)\n",
      "1.3854041462764144e-05\n",
      "False\n",
      "False\n",
      "{'x': -630.8349609375, 'y': 2236.03369140625, 'z': 146.91490173339844, 'speed': 0.0006927020731382072, 'heading': 2.538309335708618, 'gear': 1, 'steerAngle': 0.0, 'brake': 0.0, 'gas': 0.0, 'normalizedCarPosition': 0.007855255156755447, 'num_wheels_off_track': 0, 'fl_ws': 0.08092942833900452, 'fr_ws': 0.060835111886262894, 'rl_ws': 0.0687725841999054, 'rr_ws': 0.07596862316131592, 'fl_sus': 0.07570245116949081, 'fr_sus': 0.0785798579454422, 'rl_sus': 0.0977826714515686, 'rr_sus': 0.09249460697174072, 'paused': False}\n"
     ]
    }
   ],
   "source": [
    "# Steer straight and brake 100%\n",
    "obs, reward, terminated, truncated, info = env.step([0.0,-1.0])\n",
    "\n",
    "print(obs.keys())\n",
    "print(obs['framestack'].shape)\n",
    "print(obs['telemetry'].shape)\n",
    "print(reward)\n",
    "print(terminated)\n",
    "print(truncated)\n",
    "print(info)"
   ]
  },
  {
   "cell_type": "code",
   "execution_count": 13,
   "metadata": {},
   "outputs": [
    {
     "name": "stdout",
     "output_type": "stream",
     "text": [
      "dict_keys(['framestack', 'telemetry'])\n",
      "(4, 3, 84, 84)\n",
      "(20,)\n",
      "1.4121229760348797e-05\n",
      "False\n",
      "False\n",
      "{'x': -630.8350219726562, 'y': 2236.033935546875, 'z': 146.91490173339844, 'speed': 0.0007060614880174398, 'heading': 2.5382633209228516, 'gear': 1, 'steerAngle': 0.0, 'brake': 0.0, 'gas': 0.0, 'normalizedCarPosition': 0.007855255156755447, 'num_wheels_off_track': 0, 'fl_ws': 0.0808376893401146, 'fr_ws': 0.06077584624290466, 'rl_ws': 0.06871894747018814, 'rr_ws': 0.076018787920475, 'fl_sus': 0.07568754255771637, 'fr_sus': 0.07856326550245285, 'rl_sus': 0.09778395295143127, 'rr_sus': 0.09249714761972427, 'paused': False}\n"
     ]
    }
   ],
   "source": [
    "# Steer straight and release brake\n",
    "obs, reward, terminated, truncated, info = env.step([0.0,0.0])\n",
    "\n",
    "print(obs.keys())\n",
    "print(obs['framestack'].shape)\n",
    "print(obs['telemetry'].shape)\n",
    "print(reward)\n",
    "print(terminated)\n",
    "print(truncated)\n",
    "print(info)"
   ]
  },
  {
   "cell_type": "code",
   "execution_count": 14,
   "metadata": {},
   "outputs": [],
   "source": [
    "env.close()"
   ]
  },
  {
   "cell_type": "code",
   "execution_count": null,
   "metadata": {},
   "outputs": [],
   "source": []
  },
  {
   "cell_type": "markdown",
   "metadata": {},
   "source": [
    "***\n",
    "### Testing reward function"
   ]
  },
  {
   "cell_type": "code",
   "execution_count": 1,
   "metadata": {},
   "outputs": [],
   "source": [
    "import numpy as np"
   ]
  },
  {
   "cell_type": "code",
   "execution_count": 8,
   "metadata": {},
   "outputs": [
    {
     "data": {
      "text/plain": [
       "array([374.04839657, 470.66917694,  37.63880379, 650.47647962])"
      ]
     },
     "execution_count": 8,
     "metadata": {},
     "output_type": "execute_result"
    }
   ],
   "source": [
    "test_arr = np.random.rand(4) * 1000\n",
    "test_arr"
   ]
  },
  {
   "cell_type": "code",
   "execution_count": 9,
   "metadata": {},
   "outputs": [
    {
     "data": {
      "text/plain": [
       "array([374.04839657, 470.66917694,  37.63880379])"
      ]
     },
     "execution_count": 9,
     "metadata": {},
     "output_type": "execute_result"
    }
   ],
   "source": [
    "test_arr[:3]"
   ]
  },
  {
   "cell_type": "code",
   "execution_count": 10,
   "metadata": {},
   "outputs": [
    {
     "data": {
      "text/plain": [
       "array([374. , 470.7,  37.6])"
      ]
     },
     "execution_count": 10,
     "metadata": {},
     "output_type": "execute_result"
    }
   ],
   "source": [
    "np.round(test_arr[:3],1)"
   ]
  },
  {
   "cell_type": "code",
   "execution_count": 11,
   "metadata": {},
   "outputs": [
    {
     "name": "stdout",
     "output_type": "stream",
     "text": [
      "Window - Assetto Corsa - not found\n"
     ]
    }
   ],
   "source": [
    "from gamestate import GameState\n",
    "\n",
    "game_state = GameState()"
   ]
  },
  {
   "cell_type": "code",
   "execution_count": 52,
   "metadata": {},
   "outputs": [
    {
     "data": {
      "text/plain": [
       "{'x': -630.8335571289062,\n",
       " 'y': 2236.0322265625,\n",
       " 'z': 146.91494750976562,\n",
       " 'speed': 0.0007289071218110621,\n",
       " 'heading': 2.5391454696655273,\n",
       " 'gear': 1,\n",
       " 'steerAngle': 0.0,\n",
       " 'brake': 0.0,\n",
       " 'gas': 0.0,\n",
       " 'normalizedCarPosition': 0.007855696603655815,\n",
       " 'num_wheels_off_track': 0,\n",
       " 'fl_ws': 0.08083964139223099,\n",
       " 'fr_ws': 0.06080349162220955,\n",
       " 'rl_ws': 0.0687691792845726,\n",
       " 'rr_ws': 0.07607407867908478,\n",
       " 'fl_sus': 0.07568536698818207,\n",
       " 'fr_sus': 0.0785638764500618,\n",
       " 'rl_sus': 0.09777912497520447,\n",
       " 'rr_sus': 0.0924910455942154,\n",
       " 'paused': False}"
      ]
     },
     "execution_count": 52,
     "metadata": {},
     "output_type": "execute_result"
    }
   ],
   "source": [
    "game_state.get_raw_telemetry()"
   ]
  },
  {
   "cell_type": "code",
   "execution_count": null,
   "metadata": {},
   "outputs": [],
   "source": [
    "def reward_function(observation, last_observation):\n",
    "    speed = observation['speed']\n",
    "    current_position = observation['normalized_track_position']\n",
    "    tyres_off_track = observation['tyres_off_track']\n",
    "\n",
    "    # Determine if the car is making progress\n",
    "    if last_observation is not None:\n",
    "        last_position = last_observation['normalized_track_position']\n",
    "        progress = current_position - last_position\n",
    "    else:\n",
    "        progress = 0\n",
    "\n",
    "    # Encourage the car to drive fast\n",
    "    speed_reward = speed\n",
    "\n",
    "    # Reward the car for making progress along the track\n",
    "    progress_reward = max(0, progress)  # Only reward for forward progress\n",
    "\n",
    "    # Penalize the car if it goes off the track\n",
    "    if tyres_off_track >= 3:\n",
    "        off_track_penalty = -100\n",
    "    else:\n",
    "        off_track_penalty = 0\n",
    "\n",
    "    # Penalize the car for going the wrong way\n",
    "    wrong_way_penalty = -100 if progress < 0 else 0\n",
    "\n",
    "    return speed_reward + progress_reward + off_track_penalty + wrong_way_penalty"
   ]
  },
  {
   "cell_type": "code",
   "execution_count": 53,
   "metadata": {},
   "outputs": [],
   "source": [
    "game_state.close()"
   ]
  },
  {
   "cell_type": "code",
   "execution_count": 72,
   "metadata": {},
   "outputs": [],
   "source": [
    "import numpy as np\n",
    "import math"
   ]
  },
  {
   "cell_type": "code",
   "execution_count": 90,
   "metadata": {},
   "outputs": [
    {
     "name": "stdout",
     "output_type": "stream",
     "text": [
      "0.525248\n",
      "0.53\n",
      "0.005\n"
     ]
    }
   ],
   "source": [
    "random_number = round(np.random.rand(),6)\n",
    "print(random_number)\n",
    "\n",
    "multiple_of_0_005 = math.ceil(random_number/0.005)\n",
    "# print(multiple_of_0_005)\n",
    "\n",
    "next_divisible_number = round(multiple_of_0_005 * 0.005, 3)\n",
    "print(f\"{next_divisible_number}\")\n",
    "print(f\"{next_divisible_number-random_number:.3f}\")"
   ]
  },
  {
   "cell_type": "code",
   "execution_count": 103,
   "metadata": {},
   "outputs": [
    {
     "name": "stdout",
     "output_type": "stream",
     "text": [
      "0.005 - 0.0000 = 0.005 => 5.0\n",
      "0.005 - 0.0005 = 0.005 => 5.0\n",
      "0.005 - 0.0010 = 0.004 => 4.0\n",
      "0.005 - 0.0015 = 0.004 => 4.0\n",
      "0.005 - 0.0020 = 0.003 => 3.0\n",
      "0.005 - 0.0025 = 0.002 => 2.0\n",
      "0.005 - 0.0030 = 0.002 => 2.0\n",
      "0.005 - 0.0035 = 0.002 => 2.0\n",
      "0.005 - 0.0040 = 0.001 => 1.0\n",
      "0.005 - 0.0045 = 0.000 => 0.0\n",
      "0.005 - 0.0050 = 0.000 => 0.0\n"
     ]
    }
   ],
   "source": [
    "t_n = 0.005\n",
    "for i in np.linspace(0, 0.005, 11):\n",
    "    print(f\"0.005 - {i:.4f} = {round(t_n - i,3):.3f} => {round(t_n - i,3)*1000}\")  "
   ]
  },
  {
   "cell_type": "markdown",
   "metadata": {},
   "source": [
    "***\n",
    "### Testing Actor Network"
   ]
  },
  {
   "cell_type": "code",
   "execution_count": 27,
   "metadata": {},
   "outputs": [],
   "source": [
    "from PPO.networks import ActorNetwork, CriticNetwork\n",
    "import torch\n",
    "import torch.nn as nn"
   ]
  },
  {
   "cell_type": "code",
   "execution_count": 15,
   "metadata": {},
   "outputs": [],
   "source": [
    "actor = ActorNetwork()\n",
    "critic = CriticNetwork()"
   ]
  },
  {
   "cell_type": "code",
   "execution_count": 16,
   "metadata": {},
   "outputs": [],
   "source": [
    "def count_params(model):\n",
    "    return print(f\"{sum(p.numel() for p in model.parameters() if p.requires_grad):,}\")"
   ]
  },
  {
   "cell_type": "code",
   "execution_count": 19,
   "metadata": {},
   "outputs": [
    {
     "name": "stdout",
     "output_type": "stream",
     "text": [
      "4,188,034\n",
      "4,188,001\n"
     ]
    }
   ],
   "source": [
    "count_params(actor)\n",
    "count_params(critic)"
   ]
  },
  {
   "cell_type": "code",
   "execution_count": 23,
   "metadata": {},
   "outputs": [],
   "source": [
    "test_framestack = torch.randn(1, 4, 3, 84, 84) \n",
    "test_framestack = test_framestack.view(1, -1, 84, 84)\n",
    "\n",
    "test_telemetry = torch.randn(1, 20)\n",
    "\n",
    "obs = {'framestack': test_framestack, 'telemetry': test_telemetry}"
   ]
  },
  {
   "cell_type": "code",
   "execution_count": 24,
   "metadata": {},
   "outputs": [
    {
     "data": {
      "text/plain": [
       "dict_keys(['framestack', 'telemetry'])"
      ]
     },
     "execution_count": 24,
     "metadata": {},
     "output_type": "execute_result"
    }
   ],
   "source": [
    "obs.keys()"
   ]
  },
  {
   "cell_type": "code",
   "execution_count": 25,
   "metadata": {},
   "outputs": [
    {
     "data": {
      "text/plain": [
       "torch.Size([1, 12, 84, 84])"
      ]
     },
     "execution_count": 25,
     "metadata": {},
     "output_type": "execute_result"
    }
   ],
   "source": [
    "obs['framestack'].shape"
   ]
  },
  {
   "cell_type": "code",
   "execution_count": 26,
   "metadata": {},
   "outputs": [
    {
     "data": {
      "text/plain": [
       "torch.Size([1, 20])"
      ]
     },
     "execution_count": 26,
     "metadata": {},
     "output_type": "execute_result"
    }
   ],
   "source": [
    "obs['telemetry'].shape"
   ]
  },
  {
   "cell_type": "code",
   "execution_count": 47,
   "metadata": {},
   "outputs": [],
   "source": [
    "class TestCNN(nn.Module):\n",
    "    def __init__(self):\n",
    "        super(TestCNN, self).__init__()\n",
    "\n",
    "        self.cnn = nn.Sequential(\n",
    "        nn.Conv2d(4, 32, (8, 8), stride=(4, 4)),\n",
    "        nn.ReLU(),\n",
    "\n",
    "        nn.Conv2d(32, 64, (4, 4), stride=(2, 2)),\n",
    "        nn.ReLU(),\n",
    "        nn.Flatten(),\n",
    "        )\n",
    "\n",
    "    def forward(self, obs):\n",
    "        return self.cnn(obs)\n",
    "    \n",
    "class TestCNN2(nn.Module):\n",
    "    def __init__(self):\n",
    "        super(TestCNN2, self).__init__()\n",
    "\n",
    "        self.cnn = nn.Sequential(\n",
    "        nn.Conv2d(4, 32, (8, 8), stride=(4, 4)),\n",
    "        nn.ReLU(),\n",
    "\n",
    "        nn.Conv2d(32, 64, (4, 4), stride=(2, 2)),\n",
    "        nn.ReLU(),\n",
    "\n",
    "        nn.Conv2d(64, 64, kernel_size=3, stride=1),\n",
    "        nn.ReLU(),\n",
    "        \n",
    "        nn.Flatten(),\n",
    "        )\n",
    "\n",
    "    def forward(self, obs):\n",
    "        return self.cnn(obs)"
   ]
  },
  {
   "cell_type": "code",
   "execution_count": 48,
   "metadata": {},
   "outputs": [],
   "source": [
    "test_cnn = TestCNN()\n",
    "test_cnn2 = TestCNN2()"
   ]
  },
  {
   "cell_type": "code",
   "execution_count": 41,
   "metadata": {},
   "outputs": [],
   "source": [
    "test_framestack = torch.randn(1, 4, 1, 84, 84) \n",
    "test_framestack = test_framestack.view(1, -1, 84, 84)"
   ]
  },
  {
   "cell_type": "code",
   "execution_count": 51,
   "metadata": {},
   "outputs": [
    {
     "data": {
      "text/plain": [
       "torch.Size([1, 12, 84, 84])"
      ]
     },
     "execution_count": 51,
     "metadata": {},
     "output_type": "execute_result"
    }
   ],
   "source": [
    "obs['framestack'].shape"
   ]
  },
  {
   "cell_type": "code",
   "execution_count": 43,
   "metadata": {},
   "outputs": [
    {
     "data": {
      "text/plain": [
       "torch.Size([1, 4, 84, 84])"
      ]
     },
     "execution_count": 43,
     "metadata": {},
     "output_type": "execute_result"
    }
   ],
   "source": [
    "test_framestack.shape"
   ]
  },
  {
   "cell_type": "code",
   "execution_count": 50,
   "metadata": {},
   "outputs": [
    {
     "data": {
      "text/plain": [
       "torch.Size([1, 5184])"
      ]
     },
     "execution_count": 50,
     "metadata": {},
     "output_type": "execute_result"
    }
   ],
   "source": [
    "test_cnn(test_framestack).shape"
   ]
  },
  {
   "cell_type": "code",
   "execution_count": 53,
   "metadata": {},
   "outputs": [
    {
     "data": {
      "text/plain": [
       "torch.Size([1, 3136])"
      ]
     },
     "execution_count": 53,
     "metadata": {},
     "output_type": "execute_result"
    }
   ],
   "source": [
    "test_cnn2(test_framestack).shape"
   ]
  },
  {
   "cell_type": "code",
   "execution_count": 57,
   "metadata": {},
   "outputs": [
    {
     "name": "stdout",
     "output_type": "stream",
     "text": [
      "41,056\n",
      "77,984\n"
     ]
    }
   ],
   "source": [
    "count_params(test_cnn)\n",
    "count_params(test_cnn2)"
   ]
  },
  {
   "cell_type": "code",
   "execution_count": 92,
   "metadata": {},
   "outputs": [],
   "source": [
    "class ActorNetwork2(nn.Module):\n",
    "    def __init__(self):\n",
    "        super(ActorNetwork2, self).__init__()\n",
    "\n",
    "        self.cnn = nn.Sequential(\n",
    "            nn.Conv2d(12, 16, kernel_size=8, stride=4),\n",
    "            nn.LeakyReLU(),\n",
    "            nn.Conv2d(16, 32, kernel_size=4, stride=2),\n",
    "            nn.LeakyReLU(),\n",
    "            nn.Conv2d(32, 32, kernel_size=3, stride=1),\n",
    "            nn.LeakyReLU(),\n",
    "            nn.Flatten(),\n",
    "            nn.Linear(1568, 512),\n",
    "            nn.LeakyReLU(),\n",
    "            nn.Dropout(p=0.2),\n",
    "            nn.Linear(512, 64),\n",
    "            nn.LeakyReLU(),\n",
    "        )\n",
    "        \n",
    "        self.fc1 = nn.Sequential(\n",
    "            nn.Linear(20, 64),\n",
    "            nn.LayerNorm(64),\n",
    "            nn.LeakyReLU(),\n",
    "            nn.Dropout(p=0.2),\n",
    "            nn.Linear(64, 64),\n",
    "            nn.LayerNorm(64),\n",
    "            nn.LeakyReLU(),\n",
    "            nn.Dropout(p=0.2)\n",
    "        )\n",
    "        \n",
    "        self.fc2 = nn.Sequential(\n",
    "            nn.Linear(64 * 2, 256),\n",
    "            nn.LeakyReLU(),\n",
    "            nn.Dropout(p=0.2),\n",
    "            nn.Linear(256, 128),\n",
    "            nn.LeakyReLU(),\n",
    "            nn.Dropout(p=0.2),\n",
    "            nn.Linear(128, 32),\n",
    "            nn.LeakyReLU(),\n",
    "            nn.Linear(32, 2),\n",
    "            nn.Tanh(),\n",
    "        )\n",
    "\n",
    "    def forward(self, obs):\n",
    "        framestack = obs['framestack']\n",
    "        telemetry = obs['telemetry']\n",
    "        \n",
    "        framestack_embedding = self.cnn(framestack)\n",
    "        telemetry_embedding = self.fc1(telemetry)\n",
    "\n",
    "        if len(telemetry_embedding.shape) == 1:\n",
    "            telemetry_embedding = telemetry_embedding.unsqueeze(0)\n",
    "\n",
    "        concatenated = torch.cat((framestack_embedding, telemetry_embedding), dim=1)\n",
    "\n",
    "        return self.fc2(concatenated)"
   ]
  },
  {
   "cell_type": "code",
   "execution_count": 93,
   "metadata": {},
   "outputs": [],
   "source": [
    "actor2 = ActorNetwork2()"
   ]
  },
  {
   "cell_type": "code",
   "execution_count": 94,
   "metadata": {},
   "outputs": [
    {
     "name": "stdout",
     "output_type": "stream",
     "text": [
      "941,810\n"
     ]
    }
   ],
   "source": [
    "count_params(actor2)"
   ]
  },
  {
   "cell_type": "code",
   "execution_count": 95,
   "metadata": {},
   "outputs": [
    {
     "name": "stdout",
     "output_type": "stream",
     "text": [
      "865,936\n",
      "5,760\n",
      "70,114\n"
     ]
    }
   ],
   "source": [
    "count_params(actor2.cnn)\n",
    "count_params(actor2.fc1)\n",
    "count_params(actor2.fc2)"
   ]
  },
  {
   "cell_type": "code",
   "execution_count": 96,
   "metadata": {},
   "outputs": [
    {
     "data": {
      "text/plain": [
       "torch.Size([1, 64])"
      ]
     },
     "execution_count": 96,
     "metadata": {},
     "output_type": "execute_result"
    }
   ],
   "source": [
    "actor2.cnn(obs['framestack']).shape"
   ]
  },
  {
   "cell_type": "code",
   "execution_count": null,
   "metadata": {},
   "outputs": [],
   "source": []
  },
  {
   "cell_type": "code",
   "execution_count": 1,
   "metadata": {},
   "outputs": [],
   "source": [
    "from AlienEnv.alienrl_env import AlienRLEnv\n",
    "env = AlienRLEnv()"
   ]
  },
  {
   "cell_type": "code",
   "execution_count": 2,
   "metadata": {},
   "outputs": [],
   "source": [
    "# Steer straight and accelerate 20%\n",
    "obs, reward, terminated, truncated, info = env.step([0.0,0.2])\n",
    "\n",
    "# print(obs.keys())\n",
    "# print(obs['framestack'].shape)\n",
    "# print(obs['telemetry'].shape)\n",
    "# print(reward)\n",
    "# print(terminated)\n",
    "# print(truncated)\n",
    "# print(info)"
   ]
  },
  {
   "cell_type": "code",
   "execution_count": 5,
   "metadata": {},
   "outputs": [
    {
     "data": {
      "text/plain": [
       "dict_keys(['framestack', 'telemetry'])"
      ]
     },
     "execution_count": 5,
     "metadata": {},
     "output_type": "execute_result"
    }
   ],
   "source": [
    "obs.keys()"
   ]
  },
  {
   "cell_type": "code",
   "execution_count": 37,
   "metadata": {},
   "outputs": [
    {
     "data": {
      "text/plain": [
       "torch.Size([1, 3, 84, 84])"
      ]
     },
     "execution_count": 37,
     "metadata": {},
     "output_type": "execute_result"
    }
   ],
   "source": [
    "obs[\"framestack\"].shape"
   ]
  },
  {
   "cell_type": "code",
   "execution_count": 50,
   "metadata": {},
   "outputs": [
    {
     "data": {
      "text/plain": [
       "{'framestack': tensor([[[[-0.2930,  0.3702,  0.4390,  ..., -3.2355, -0.1867,  0.1965],\n",
       "           [-0.8547,  0.6792, -1.3858,  ..., -1.0457, -1.2143,  0.3501],\n",
       "           [ 0.3452,  0.5600, -0.0245,  ..., -0.1328,  1.1380, -0.2243],\n",
       "           ...,\n",
       "           [-0.1394,  1.3297, -1.1269,  ..., -0.1056,  1.0763,  0.4000],\n",
       "           [ 0.7802,  0.8291, -1.2153,  ..., -0.2550,  0.0114,  0.6058],\n",
       "           [-0.8994,  0.0604,  0.8022,  ...,  0.7813, -0.2539,  2.3401]],\n",
       " \n",
       "          [[-1.5739,  1.9356,  0.3717,  ..., -1.1329,  0.5775, -0.5633],\n",
       "           [-0.3118, -0.4348, -0.2068,  ...,  0.6025,  0.8753, -1.4669],\n",
       "           [-0.4889,  1.5304,  1.5512,  ...,  1.4955,  0.1175, -0.6317],\n",
       "           ...,\n",
       "           [-0.3899, -0.5472,  1.0953,  ...,  0.9404, -1.6929, -1.1462],\n",
       "           [-0.8494, -0.1620, -0.3865,  ..., -0.6113, -0.6435, -0.2735],\n",
       "           [-1.1727,  0.1345,  2.0073,  ...,  0.6308,  0.9257, -1.2962]],\n",
       " \n",
       "          [[-0.9781,  0.7394,  1.0960,  ...,  0.3010, -0.2000, -0.7225],\n",
       "           [-0.4657, -0.4600, -0.1602,  ..., -0.9110, -1.0948,  0.6173],\n",
       "           [ 0.2245, -1.4194, -0.6026,  ...,  0.0203, -0.2448,  0.0949],\n",
       "           ...,\n",
       "           [-0.9991, -1.6009,  0.4969,  ...,  0.8560, -0.7118, -0.3365],\n",
       "           [-0.3992, -1.2410, -0.2661,  ...,  0.4995,  1.1644,  0.4166],\n",
       "           [-0.7929, -0.9591, -2.0647,  ..., -1.8128, -0.6385,  0.7746]]]]),\n",
       " 'telemetry': tensor([-0.2455, -0.1872, -1.5492, -0.6834, -1.8704, -1.4385, -0.9923, -0.5198,\n",
       "          0.2888])}"
      ]
     },
     "execution_count": 50,
     "metadata": {},
     "output_type": "execute_result"
    }
   ],
   "source": [
    "obs"
   ]
  },
  {
   "cell_type": "code",
   "execution_count": 39,
   "metadata": {},
   "outputs": [],
   "source": [
    "test_image = obs[\"framestack\"]"
   ]
  },
  {
   "cell_type": "code",
   "execution_count": 43,
   "metadata": {},
   "outputs": [],
   "source": [
    "test_image = test_image.squeeze(0)"
   ]
  },
  {
   "cell_type": "code",
   "execution_count": 47,
   "metadata": {},
   "outputs": [
    {
     "data": {
      "text/plain": [
       "tensor(-0.0031)"
      ]
     },
     "execution_count": 47,
     "metadata": {},
     "output_type": "execute_result"
    }
   ],
   "source": [
    "test_image.mean()"
   ]
  },
  {
   "cell_type": "code",
   "execution_count": 49,
   "metadata": {},
   "outputs": [
    {
     "data": {
      "text/plain": [
       "tensor(3.8671)"
      ]
     },
     "execution_count": 49,
     "metadata": {},
     "output_type": "execute_result"
    }
   ],
   "source": [
    "test_image.max()"
   ]
  },
  {
   "cell_type": "code",
   "execution_count": 45,
   "metadata": {},
   "outputs": [
    {
     "ename": "error",
     "evalue": "OpenCV(4.8.0) :-1: error: (-5:Bad argument) in function 'cvtColor'\n> Overload resolution failed:\n>  - src is not a numpy array, neither a scalar\n>  - Expected Ptr<cv::UMat> for argument 'src'\n",
     "output_type": "error",
     "traceback": [
      "\u001b[1;31m---------------------------------------------------------------------------\u001b[0m",
      "\u001b[1;31merror\u001b[0m                                     Traceback (most recent call last)",
      "Cell \u001b[1;32mIn[45], line 1\u001b[0m\n\u001b[1;32m----> 1\u001b[0m plt\u001b[39m.\u001b[39mimshow(cv2\u001b[39m.\u001b[39;49mcvtColor(test_image, cv2\u001b[39m.\u001b[39;49mCOLOR_BGRA2BGR))\n",
      "\u001b[1;31merror\u001b[0m: OpenCV(4.8.0) :-1: error: (-5:Bad argument) in function 'cvtColor'\n> Overload resolution failed:\n>  - src is not a numpy array, neither a scalar\n>  - Expected Ptr<cv::UMat> for argument 'src'\n"
     ]
    }
   ],
   "source": [
    "plt.imshow(cv2.cvtColor(test_image, cv2.COLOR_BGRA2BGR))"
   ]
  },
  {
   "cell_type": "code",
   "execution_count": 9,
   "metadata": {},
   "outputs": [
    {
     "data": {
      "text/plain": [
       "(9,)"
      ]
     },
     "execution_count": 9,
     "metadata": {},
     "output_type": "execute_result"
    }
   ],
   "source": [
    "obs[\"telemetry\"].shape"
   ]
  },
  {
   "cell_type": "code",
   "execution_count": 10,
   "metadata": {},
   "outputs": [],
   "source": [
    "obs, reward, terminated, truncated, info = env.step([0.0,0.7])"
   ]
  },
  {
   "cell_type": "code",
   "execution_count": 4,
   "metadata": {},
   "outputs": [],
   "source": [
    "obs, reward, terminated, truncated, info = env.step([0.0,0.0])"
   ]
  },
  {
   "cell_type": "code",
   "execution_count": 5,
   "metadata": {},
   "outputs": [],
   "source": [
    "obs, info = env.reset(rewind_time=10)"
   ]
  },
  {
   "cell_type": "code",
   "execution_count": null,
   "metadata": {},
   "outputs": [],
   "source": [
    "env.close()"
   ]
  },
  {
   "cell_type": "code",
   "execution_count": 1,
   "metadata": {},
   "outputs": [],
   "source": [
    "import pyautogui"
   ]
  },
  {
   "cell_type": "code",
   "execution_count": 2,
   "metadata": {},
   "outputs": [],
   "source": [
    "import time"
   ]
  },
  {
   "cell_type": "code",
   "execution_count": 3,
   "metadata": {},
   "outputs": [
    {
     "name": "stdout",
     "output_type": "stream",
     "text": [
      "Point(x=647, y=881)\n"
     ]
    }
   ],
   "source": [
    "time.sleep(2)\n",
    "print(pyautogui.position())"
   ]
  },
  {
   "cell_type": "markdown",
   "metadata": {},
   "source": [
    "***\n",
    "### NN Testing"
   ]
  },
  {
   "cell_type": "code",
   "execution_count": 5,
   "metadata": {},
   "outputs": [],
   "source": [
    "import torch.nn as nn\n",
    "from typing import Optional, Tuple, Union\n",
    "import torch"
   ]
  },
  {
   "cell_type": "code",
   "execution_count": 48,
   "metadata": {},
   "outputs": [],
   "source": [
    "def count_params(model):\n",
    "    return print(f\"{sum(p.numel() for p in model.parameters() if p.requires_grad):,}\")"
   ]
  },
  {
   "cell_type": "code",
   "execution_count": 148,
   "metadata": {},
   "outputs": [],
   "source": [
    "class CombinedNetwork(nn.Module):\n",
    "    def __init__(self):\n",
    "        super(CombinedNetwork, self).__init__()\n",
    "        \n",
    "        # Convolutional layers for image\n",
    "        self.cnn = nn.Sequential(\n",
    "            nn.Conv2d(in_channels=3, out_channels=16, kernel_size=(4, 4), stride=2),\n",
    "            nn.LeakyReLU(),\n",
    "            nn.Conv2d(in_channels=16, out_channels=32, kernel_size=(4, 4), stride=2),\n",
    "            nn.LeakyReLU(),\n",
    "            nn.Conv2d(in_channels=32, out_channels=64, kernel_size=(3, 3), stride=2),\n",
    "            nn.LeakyReLU(),\n",
    "            nn.Conv2d(in_channels=64, out_channels=32, kernel_size=(3, 3), stride=1),\n",
    "            nn.LeakyReLU(),\n",
    "            nn.Flatten(),\n",
    "            nn.Linear(1568, 256),\n",
    "            nn.LeakyReLU(),\n",
    "            nn.Linear(256, 128),\n",
    "            nn.LeakyReLU()\n",
    "        )\n",
    "        \n",
    "        # Fully connected layers for telemetry data\n",
    "        self.fc1 = nn.Sequential(\n",
    "            nn.Linear(10, 128),\n",
    "            nn.LeakyReLU(),\n",
    "            nn.Linear(128, 128),\n",
    "            nn.LeakyReLU(),\n",
    "            nn.Linear(128, 128),\n",
    "            nn.LeakyReLU()\n",
    "        )\n",
    "        \n",
    "        self.lstm = nn.LSTM(256, hidden_size=128, num_layers=2, batch_first=True)\n",
    "        \n",
    "        # Fully connected layer for output\n",
    "        self.fc_out = nn.Sequential(\n",
    "            nn.Linear(128, 256),\n",
    "            nn.LeakyReLU(),\n",
    "            nn.Linear(256, 256),\n",
    "            nn.LeakyReLU(),\n",
    "            nn.Linear(256, 64),\n",
    "            nn.LeakyReLU(),\n",
    "            nn.Linear(64, 2),\n",
    "            nn.Tanh(),\n",
    "        )\n",
    "\n",
    "        # Initialize weights\n",
    "        self.apply(self.initialize_weights)\n",
    "\n",
    "    def initialize_weights(self, m):\n",
    "        if isinstance(m, nn.Conv2d) or isinstance(m, nn.Linear):\n",
    "            nn.init.xavier_normal_(m.weight.data)\n",
    "        elif isinstance(m, nn.LSTM):\n",
    "            for name, param in m.named_parameters():\n",
    "                if 'weight_ih' in name:\n",
    "                    nn.init.xavier_normal_(param.data)\n",
    "                elif 'weight_hh' in name:\n",
    "                    nn.init.orthogonal_(param.data)\n",
    "                elif 'bias' in name:\n",
    "                    nn.init.zeros_(param.data)\n",
    "\n",
    "    \n",
    "    def forward(self, obs):\n",
    "\n",
    "        image = obs['image']\n",
    "        telemetry = obs['telemetry']\n",
    "\n",
    "        cnn = self.cnn(image)\n",
    "        fc1 = self.fc1(telemetry)\n",
    "        \n",
    "        combined = torch.cat((cnn, fc1), dim=1)\n",
    "        \n",
    "        lstm_out, _ = self.lstm(combined)\n",
    "        \n",
    "        output = self.fc_out(lstm_out.squeeze(1))\n",
    "        \n",
    "        return output"
   ]
  },
  {
   "cell_type": "code",
   "execution_count": 149,
   "metadata": {},
   "outputs": [],
   "source": [
    "model = CombinedNetwork()"
   ]
  },
  {
   "cell_type": "code",
   "execution_count": 152,
   "metadata": {},
   "outputs": [
    {
     "data": {
      "text/plain": [
       "tensor([[-0.1368, -0.1034]], grad_fn=<TanhBackward0>)"
      ]
     },
     "execution_count": 152,
     "metadata": {},
     "output_type": "execute_result"
    }
   ],
   "source": [
    "image = torch.randn(1, 3, 84, 84)\n",
    "telemetry = torch.randn(1, 10)\n",
    "obs = {'image': image, 'telemetry': telemetry}\n",
    "\n",
    "# Forward pass\n",
    "model(obs)"
   ]
  },
  {
   "cell_type": "code",
   "execution_count": 153,
   "metadata": {},
   "outputs": [
    {
     "data": {
      "text/plain": [
       "torch.Size([1, 128])"
      ]
     },
     "execution_count": 153,
     "metadata": {},
     "output_type": "execute_result"
    }
   ],
   "source": [
    "model.cnn(image).shape"
   ]
  },
  {
   "cell_type": "code",
   "execution_count": 154,
   "metadata": {},
   "outputs": [
    {
     "name": "stdout",
     "output_type": "stream",
     "text": [
      "960,082\n"
     ]
    }
   ],
   "source": [
    "count_params(model)"
   ]
  },
  {
   "cell_type": "code",
   "execution_count": 155,
   "metadata": {},
   "outputs": [
    {
     "data": {
      "text/plain": [
       "CombinedNetwork(\n",
       "  (cnn): Sequential(\n",
       "    (0): Conv2d(3, 16, kernel_size=(4, 4), stride=(2, 2))\n",
       "    (1): LeakyReLU(negative_slope=0.01)\n",
       "    (2): Conv2d(16, 32, kernel_size=(4, 4), stride=(2, 2))\n",
       "    (3): LeakyReLU(negative_slope=0.01)\n",
       "    (4): Conv2d(32, 64, kernel_size=(3, 3), stride=(2, 2))\n",
       "    (5): LeakyReLU(negative_slope=0.01)\n",
       "    (6): Conv2d(64, 32, kernel_size=(3, 3), stride=(1, 1))\n",
       "    (7): LeakyReLU(negative_slope=0.01)\n",
       "    (8): Flatten(start_dim=1, end_dim=-1)\n",
       "    (9): Linear(in_features=1568, out_features=256, bias=True)\n",
       "    (10): LeakyReLU(negative_slope=0.01)\n",
       "    (11): Linear(in_features=256, out_features=128, bias=True)\n",
       "    (12): LeakyReLU(negative_slope=0.01)\n",
       "  )\n",
       "  (fc1): Sequential(\n",
       "    (0): Linear(in_features=10, out_features=128, bias=True)\n",
       "    (1): LeakyReLU(negative_slope=0.01)\n",
       "    (2): Linear(in_features=128, out_features=128, bias=True)\n",
       "    (3): LeakyReLU(negative_slope=0.01)\n",
       "    (4): Linear(in_features=128, out_features=128, bias=True)\n",
       "    (5): LeakyReLU(negative_slope=0.01)\n",
       "  )\n",
       "  (lstm): LSTM(256, 128, num_layers=2, batch_first=True)\n",
       "  (fc_out): Sequential(\n",
       "    (0): Linear(in_features=128, out_features=256, bias=True)\n",
       "    (1): LeakyReLU(negative_slope=0.01)\n",
       "    (2): Linear(in_features=256, out_features=256, bias=True)\n",
       "    (3): LeakyReLU(negative_slope=0.01)\n",
       "    (4): Linear(in_features=256, out_features=64, bias=True)\n",
       "    (5): LeakyReLU(negative_slope=0.01)\n",
       "    (6): Linear(in_features=64, out_features=2, bias=True)\n",
       "    (7): Tanh()\n",
       "  )\n",
       ")"
      ]
     },
     "execution_count": 155,
     "metadata": {},
     "output_type": "execute_result"
    }
   ],
   "source": [
    "model"
   ]
  },
  {
   "cell_type": "code",
   "execution_count": 31,
   "metadata": {},
   "outputs": [],
   "source": [
    "from PPO.networks import ActorNetwork\n",
    "import torch\n",
    "import torch.nn as nn"
   ]
  },
  {
   "cell_type": "code",
   "execution_count": 32,
   "metadata": {},
   "outputs": [],
   "source": [
    "model = ActorNetwork()"
   ]
  },
  {
   "cell_type": "code",
   "execution_count": 33,
   "metadata": {},
   "outputs": [],
   "source": [
    "image = torch.randn(1, 3, 84, 84)\n",
    "telemetry = torch.randn(9)\n",
    "obs = {'framestack': image, 'telemetry': telemetry}"
   ]
  },
  {
   "cell_type": "code",
   "execution_count": 34,
   "metadata": {},
   "outputs": [
    {
     "data": {
      "text/plain": [
       "torch.Size([1, 3, 84, 84])"
      ]
     },
     "execution_count": 34,
     "metadata": {},
     "output_type": "execute_result"
    }
   ],
   "source": [
    "image.shape"
   ]
  },
  {
   "cell_type": "code",
   "execution_count": 35,
   "metadata": {},
   "outputs": [
    {
     "data": {
      "text/plain": [
       "torch.Size([9])"
      ]
     },
     "execution_count": 35,
     "metadata": {},
     "output_type": "execute_result"
    }
   ],
   "source": [
    "telemetry.shape"
   ]
  },
  {
   "cell_type": "code",
   "execution_count": 36,
   "metadata": {},
   "outputs": [
    {
     "data": {
      "text/plain": [
       "tensor([[ 0.0163, -0.0081]], grad_fn=<TanhBackward0>)"
      ]
     },
     "execution_count": 36,
     "metadata": {},
     "output_type": "execute_result"
    }
   ],
   "source": [
    "# Forward pass\n",
    "model(obs)"
   ]
  },
  {
   "cell_type": "code",
   "execution_count": 20,
   "metadata": {},
   "outputs": [],
   "source": [
    "class ActorNetwork2(nn.Module):\n",
    "    def __init__(self):\n",
    "        super(ActorNetwork2, self).__init__()\n",
    "        \n",
    "        # Convolutional layers for image\n",
    "        self.cnn = nn.Sequential(\n",
    "            nn.Conv2d(in_channels=3, out_channels=16, kernel_size=(4, 4), stride=2),\n",
    "            nn.LeakyReLU(),\n",
    "            nn.Conv2d(in_channels=16, out_channels=32, kernel_size=(4, 4), stride=2),\n",
    "            nn.LeakyReLU(),\n",
    "            nn.Conv2d(in_channels=32, out_channels=64, kernel_size=(3, 3), stride=2),\n",
    "            nn.LeakyReLU(),\n",
    "            nn.Conv2d(in_channels=64, out_channels=32, kernel_size=(3, 3), stride=1),\n",
    "            nn.LeakyReLU(),\n",
    "            nn.Flatten(),\n",
    "            nn.Linear(1568, 256),\n",
    "            nn.LeakyReLU(),\n",
    "            nn.Linear(256, 128),\n",
    "            nn.LeakyReLU()\n",
    "        )\n",
    "        \n",
    "        # Fully connected layers for telemetry data\n",
    "        self.fc1 = nn.Sequential(\n",
    "            nn.Linear(9, 128),\n",
    "            nn.LeakyReLU(),\n",
    "            nn.Linear(128, 128),\n",
    "            nn.LeakyReLU(),\n",
    "            nn.Linear(128, 128),\n",
    "            nn.LeakyReLU()\n",
    "        )\n",
    "        \n",
    "        self.lstm = nn.LSTM(256, hidden_size=128, num_layers=2, batch_first=True)\n",
    "        \n",
    "        # Fully connected layer for output\n",
    "        self.fc_out = nn.Sequential(\n",
    "            nn.Linear(128, 256),\n",
    "            nn.LeakyReLU(),\n",
    "            nn.Linear(256, 256),\n",
    "            nn.LeakyReLU(),\n",
    "            nn.Linear(256, 64),\n",
    "            nn.LeakyReLU(),\n",
    "            nn.Linear(64, 2),\n",
    "            nn.Tanh(),\n",
    "        )\n",
    "\n",
    "        # Initialize weights\n",
    "        self.apply(self.initialize_weights)\n",
    "\n",
    "    def initialize_weights(self, m):\n",
    "        if isinstance(m, nn.Linear):\n",
    "            nn.init.xavier_uniform_(m.weight)\n",
    "            if m.bias is not None:\n",
    "                nn.init.zeros_(m.bias)\n",
    "        elif isinstance(m, nn.Conv2d):\n",
    "            nn.init.kaiming_normal_(m.weight, mode='fan_out', nonlinearity='relu')\n",
    "            if m.bias is not None:\n",
    "                nn.init.zeros_(m.bias)\n",
    "            elif isinstance(m, nn.LSTM):\n",
    "                for name, param in m.named_parameters():\n",
    "                    if 'weight_ih' in name:\n",
    "                        nn.init.xavier_normal_(param.data)\n",
    "                    elif 'weight_hh' in name:\n",
    "                        nn.init.orthogonal_(param.data)\n",
    "                    elif 'bias' in name:\n",
    "                        nn.init.zeros_(param.data)\n",
    "\n",
    "    \n",
    "    def forward(self, obs):\n",
    "\n",
    "        framestack = obs['framestack']\n",
    "        telemetry = obs['telemetry']\n",
    "        \n",
    "        telemetry = telemetry.unsqueeze(0)\n",
    "\n",
    "        cnn = self.cnn(framestack)\n",
    "        fc1 = self.fc1(telemetry)\n",
    "        \n",
    "        print(cnn.shape)\n",
    "        print(fc1.shape)\n",
    "        combined = torch.cat((cnn, fc1), dim=1)\n",
    "        \n",
    "        lstm_out, _ = self.lstm(combined)\n",
    "        \n",
    "        output = self.fc_out(lstm_out.squeeze(1))\n",
    "        \n",
    "        return output"
   ]
  },
  {
   "cell_type": "code",
   "execution_count": 21,
   "metadata": {},
   "outputs": [],
   "source": [
    "model2 = ActorNetwork2()"
   ]
  },
  {
   "cell_type": "code",
   "execution_count": 22,
   "metadata": {},
   "outputs": [
    {
     "name": "stdout",
     "output_type": "stream",
     "text": [
      "torch.Size([1, 128])\n",
      "torch.Size([1, 1, 128])\n"
     ]
    },
    {
     "ename": "RuntimeError",
     "evalue": "Tensors must have same number of dimensions: got 2 and 3",
     "output_type": "error",
     "traceback": [
      "\u001b[1;31m---------------------------------------------------------------------------\u001b[0m",
      "\u001b[1;31mRuntimeError\u001b[0m                              Traceback (most recent call last)",
      "Cell \u001b[1;32mIn[22], line 1\u001b[0m\n\u001b[1;32m----> 1\u001b[0m model2(obs)\n",
      "File \u001b[1;32mc:\\Users\\CHRIS\\miniconda3\\envs\\torch-gpu\\Lib\\site-packages\\torch\\nn\\modules\\module.py:1501\u001b[0m, in \u001b[0;36mModule._call_impl\u001b[1;34m(self, *args, **kwargs)\u001b[0m\n\u001b[0;32m   1496\u001b[0m \u001b[39m# If we don't have any hooks, we want to skip the rest of the logic in\u001b[39;00m\n\u001b[0;32m   1497\u001b[0m \u001b[39m# this function, and just call forward.\u001b[39;00m\n\u001b[0;32m   1498\u001b[0m \u001b[39mif\u001b[39;00m \u001b[39mnot\u001b[39;00m (\u001b[39mself\u001b[39m\u001b[39m.\u001b[39m_backward_hooks \u001b[39mor\u001b[39;00m \u001b[39mself\u001b[39m\u001b[39m.\u001b[39m_backward_pre_hooks \u001b[39mor\u001b[39;00m \u001b[39mself\u001b[39m\u001b[39m.\u001b[39m_forward_hooks \u001b[39mor\u001b[39;00m \u001b[39mself\u001b[39m\u001b[39m.\u001b[39m_forward_pre_hooks\n\u001b[0;32m   1499\u001b[0m         \u001b[39mor\u001b[39;00m _global_backward_pre_hooks \u001b[39mor\u001b[39;00m _global_backward_hooks\n\u001b[0;32m   1500\u001b[0m         \u001b[39mor\u001b[39;00m _global_forward_hooks \u001b[39mor\u001b[39;00m _global_forward_pre_hooks):\n\u001b[1;32m-> 1501\u001b[0m     \u001b[39mreturn\u001b[39;00m forward_call(\u001b[39m*\u001b[39;49margs, \u001b[39m*\u001b[39;49m\u001b[39m*\u001b[39;49mkwargs)\n\u001b[0;32m   1502\u001b[0m \u001b[39m# Do not call functions when jit is used\u001b[39;00m\n\u001b[0;32m   1503\u001b[0m full_backward_hooks, non_full_backward_hooks \u001b[39m=\u001b[39m [], []\n",
      "Cell \u001b[1;32mIn[20], line 80\u001b[0m, in \u001b[0;36mActorNetwork2.forward\u001b[1;34m(self, obs)\u001b[0m\n\u001b[0;32m     78\u001b[0m \u001b[39mprint\u001b[39m(cnn\u001b[39m.\u001b[39mshape)\n\u001b[0;32m     79\u001b[0m \u001b[39mprint\u001b[39m(fc1\u001b[39m.\u001b[39mshape)\n\u001b[1;32m---> 80\u001b[0m combined \u001b[39m=\u001b[39m torch\u001b[39m.\u001b[39;49mcat((cnn, fc1), dim\u001b[39m=\u001b[39;49m\u001b[39m1\u001b[39;49m)\n\u001b[0;32m     82\u001b[0m lstm_out, _ \u001b[39m=\u001b[39m \u001b[39mself\u001b[39m\u001b[39m.\u001b[39mlstm(combined)\n\u001b[0;32m     84\u001b[0m output \u001b[39m=\u001b[39m \u001b[39mself\u001b[39m\u001b[39m.\u001b[39mfc_out(lstm_out\u001b[39m.\u001b[39msqueeze(\u001b[39m1\u001b[39m))\n",
      "\u001b[1;31mRuntimeError\u001b[0m: Tensors must have same number of dimensions: got 2 and 3"
     ]
    }
   ],
   "source": [
    "model2(obs)"
   ]
  },
  {
   "cell_type": "code",
   "execution_count": 10,
   "metadata": {},
   "outputs": [
    {
     "name": "stdout",
     "output_type": "stream",
     "text": [
      "Shape of cnn: torch.Size([1, 128])\n",
      "Shape of fc1: torch.Size([1, 128])\n"
     ]
    }
   ],
   "source": [
    "print(\"Shape of cnn:\", model2.cnn(image).shape)\n",
    "print(\"Shape of fc1:\", model2.fc1(telemetry).shape)"
   ]
  },
  {
   "cell_type": "markdown",
   "metadata": {},
   "source": [
    "***"
   ]
  },
  {
   "cell_type": "code",
   "execution_count": 55,
   "metadata": {},
   "outputs": [],
   "source": [
    "import matplotlib.pyplot as plt\n",
    "import cv2\n",
    "from AlienEnv.framestack import FrameStack\n",
    "from torchvision import transforms"
   ]
  },
  {
   "cell_type": "code",
   "execution_count": 52,
   "metadata": {},
   "outputs": [],
   "source": [
    "framestack = FrameStack()\n",
    "framestack.start()"
   ]
  },
  {
   "cell_type": "code",
   "execution_count": 53,
   "metadata": {},
   "outputs": [],
   "source": [
    "fs = framestack.get_framestack()\n",
    "framestack.stop()\n",
    "del framestack"
   ]
  },
  {
   "cell_type": "code",
   "execution_count": 56,
   "metadata": {},
   "outputs": [],
   "source": [
    "class BonnetTransform:\n",
    "\n",
    "    def __init__(self):\n",
    "        self.resize = transforms.Resize((84,84))\n",
    "        self.normalize = transforms.Normalize(mean=[0.5, 0.5, 0.5], std=[0.228, 0.228, 0.228])\n",
    "        self.to_tensor = transforms.ToTensor()\n",
    "\n",
    "    def __call__(self, frames):\n",
    "        result = []\n",
    "        for frame in frames:\n",
    "\n",
    "            # Convert to PIL image\n",
    "            pil_image = Image.fromarray(frame.astype('uint8'))\n",
    "                        \n",
    "            # print(f\"Before: {pil_image.size}\")\n",
    "\n",
    "            # Crop\n",
    "            width, height = pil_image.size\n",
    "            pil_image = pil_image.crop((0, height // 2, width, 600))\n",
    "\n",
    "            # Resize\n",
    "            resized_pil_image = self.resize(pil_image)\n",
    "\n",
    "            # Convert to tensor\n",
    "            # tensor = self.to_tensor(resized_pil_image)\n",
    "\n",
    "            # Normalize\n",
    "            # normalized_tensor  = self.normalize(tensor)\n",
    "\n",
    "            numpy_array = resized_pil_image.numpy()\n",
    "            result.append(numpy_array)\n",
    "\n",
    "            # result.append(tensor)\n",
    "            # result.append(normalized_tensor)\n",
    "\n",
    "        return np.stack(result)"
   ]
  },
  {
   "cell_type": "code",
   "execution_count": null,
   "metadata": {},
   "outputs": [],
   "source": [
    "preprocess = BonnetTransform()"
   ]
  },
  {
   "cell_type": "code",
   "execution_count": 54,
   "metadata": {},
   "outputs": [
    {
     "data": {
      "text/plain": [
       "(4, 720, 1280, 3)"
      ]
     },
     "execution_count": 54,
     "metadata": {},
     "output_type": "execute_result"
    }
   ],
   "source": [
    "fs.shape"
   ]
  },
  {
   "cell_type": "code",
   "execution_count": 1,
   "metadata": {},
   "outputs": [],
   "source": [
    "import torch"
   ]
  },
  {
   "cell_type": "code",
   "execution_count": 10,
   "metadata": {},
   "outputs": [],
   "source": [
    "action = torch.Tensor([-1,-1])"
   ]
  },
  {
   "cell_type": "code",
   "execution_count": 11,
   "metadata": {},
   "outputs": [],
   "source": [
    "prev_action = action"
   ]
  },
  {
   "cell_type": "code",
   "execution_count": 12,
   "metadata": {},
   "outputs": [],
   "source": [
    "action = torch.tensor([-0.5, -1])"
   ]
  },
  {
   "cell_type": "code",
   "execution_count": 13,
   "metadata": {},
   "outputs": [],
   "source": [
    "max_delta = 0.05"
   ]
  },
  {
   "cell_type": "code",
   "execution_count": 14,
   "metadata": {},
   "outputs": [
    {
     "data": {
      "text/plain": [
       "tensor([-0.9500, -1.0000])"
      ]
     },
     "execution_count": 14,
     "metadata": {},
     "output_type": "execute_result"
    }
   ],
   "source": [
    "torch.clip(action, prev_action - max_delta, prev_action + max_delta)"
   ]
  },
  {
   "cell_type": "code",
   "execution_count": null,
   "metadata": {},
   "outputs": [],
   "source": []
  },
  {
   "cell_type": "markdown",
   "metadata": {},
   "source": [
    "***"
   ]
  },
  {
   "cell_type": "code",
   "execution_count": 5,
   "metadata": {},
   "outputs": [],
   "source": [
    "from PPO.memory import TrajectoryDataset, PPOMemory\n",
    "from torch.utils.data import DataLoader\n",
    "import torch"
   ]
  },
  {
   "cell_type": "code",
   "execution_count": 4,
   "metadata": {},
   "outputs": [],
   "source": [
    "buffer = PPOMemory()"
   ]
  },
  {
   "cell_type": "code",
   "execution_count": 32,
   "metadata": {},
   "outputs": [],
   "source": [
    "for i in range(4096):\n",
    "    framestack = torch.randn(3,84,84)\n",
    "    telemetry = torch.randn(9)\n",
    "    state = {'framestack': framestack, 'telemetry': telemetry}\n",
    "    action = torch.rand(1)\n",
    "    action_logprob = torch.rand(1)\n",
    "    state_val = torch.rand(1)\n",
    "\n",
    "    buffer.states.append(state)\n",
    "    buffer.actions.append(action)\n",
    "    buffer.logprobs.append(action_logprob)\n",
    "    buffer.state_values.append(state_val)"
   ]
  },
  {
   "cell_type": "code",
   "execution_count": 34,
   "metadata": {},
   "outputs": [
    {
     "data": {
      "text/plain": [
       "4096"
      ]
     },
     "execution_count": 34,
     "metadata": {},
     "output_type": "execute_result"
    }
   ],
   "source": [
    "len(buffer.states)"
   ]
  },
  {
   "cell_type": "code",
   "execution_count": 36,
   "metadata": {},
   "outputs": [
    {
     "data": {
      "text/plain": [
       "torch.Size([3, 84, 84])"
      ]
     },
     "execution_count": 36,
     "metadata": {},
     "output_type": "execute_result"
    }
   ],
   "source": [
    "buffer.states[0][\"framestack\"].shape"
   ]
  },
  {
   "cell_type": "code",
   "execution_count": 43,
   "metadata": {},
   "outputs": [],
   "source": [
    "from torch.utils.data import Dataset\n",
    "\n",
    "class TrajectoryDataset(Dataset):\n",
    "    def __init__(self, old_states, old_actions, old_log_probs, old_state_values):\n",
    "        self.old_states = old_states\n",
    "        self.old_actions = old_actions\n",
    "        self.old_log_probs = old_log_probs\n",
    "        self.old_state_values = old_state_values\n",
    "\n",
    "    def __len__(self):\n",
    "        return len(self.old_states)\n",
    "\n",
    "    def __getitem__(self, idx):\n",
    "        return self.old_states[idx], self.old_actions[idx], self.old_log_probs[idx], self.old_state_values[idx]"
   ]
  },
  {
   "cell_type": "code",
   "execution_count": 44,
   "metadata": {},
   "outputs": [],
   "source": [
    "batch_size = 32\n",
    "\n",
    "framestack_states = torch.stack([state['framestack'] for state in buffer.states], dim=0)\n",
    "telemetry_states = torch.stack([state['telemetry'] for state in buffer.states], dim=0)\n",
    "\n",
    "# apply squeeze, detach, and device transfer operations if necessary\n",
    "framestack_states = torch.squeeze(framestack_states).detach()\n",
    "telemetry_states = torch.squeeze(telemetry_states).detach()\n",
    "\n",
    "# now old_states is a dictionary\n",
    "old_states = {'framestack': framestack_states, 'telemetry': telemetry_states}\n",
    "old_actions = torch.squeeze(torch.stack(buffer.actions, dim=0)).detach()\n",
    "old_logprobs = torch.squeeze(torch.stack(buffer.logprobs, dim=0)).detach()\n",
    "old_state_values = torch.squeeze(torch.stack(buffer.state_values, dim=0)).detach()\n",
    "\n",
    "# Create dataset and dataloader\n",
    "dataset = TrajectoryDataset(old_states, old_actions, old_logprobs, old_state_values)\n",
    "dataloader = DataLoader(dataset, batch_size=batch_size, shuffle=True)"
   ]
  },
  {
   "cell_type": "code",
   "execution_count": 46,
   "metadata": {},
   "outputs": [
    {
     "ename": "KeyError",
     "evalue": "1",
     "output_type": "error",
     "traceback": [
      "\u001b[0;31m---------------------------------------------------------------------------\u001b[0m",
      "\u001b[0;31mKeyError\u001b[0m                                  Traceback (most recent call last)",
      "Cell \u001b[0;32mIn[46], line 5\u001b[0m\n\u001b[1;32m      1\u001b[0m num_of_epochs \u001b[39m=\u001b[39m \u001b[39m1\u001b[39m\n\u001b[1;32m      3\u001b[0m \u001b[39m# Optimize policy for n number of epochs\u001b[39;00m\n\u001b[1;32m      4\u001b[0m \u001b[39m# for _ in range(num_of_epochs):\u001b[39;00m\n\u001b[0;32m----> 5\u001b[0m \u001b[39mfor\u001b[39;00m old_states, old_actions, old_log_probs, old_state_values \u001b[39min\u001b[39;00m dataloader:\n\u001b[1;32m      6\u001b[0m     \u001b[39mprint\u001b[39m(old_actions\u001b[39m.\u001b[39mshape)\n",
      "File \u001b[0;32m~/miniconda3/envs/torch-cpu/lib/python3.11/site-packages/torch/utils/data/dataloader.py:633\u001b[0m, in \u001b[0;36m_BaseDataLoaderIter.__next__\u001b[0;34m(self)\u001b[0m\n\u001b[1;32m    630\u001b[0m \u001b[39mif\u001b[39;00m \u001b[39mself\u001b[39m\u001b[39m.\u001b[39m_sampler_iter \u001b[39mis\u001b[39;00m \u001b[39mNone\u001b[39;00m:\n\u001b[1;32m    631\u001b[0m     \u001b[39m# TODO(https://github.com/pytorch/pytorch/issues/76750)\u001b[39;00m\n\u001b[1;32m    632\u001b[0m     \u001b[39mself\u001b[39m\u001b[39m.\u001b[39m_reset()  \u001b[39m# type: ignore[call-arg]\u001b[39;00m\n\u001b[0;32m--> 633\u001b[0m data \u001b[39m=\u001b[39m \u001b[39mself\u001b[39m\u001b[39m.\u001b[39m_next_data()\n\u001b[1;32m    634\u001b[0m \u001b[39mself\u001b[39m\u001b[39m.\u001b[39m_num_yielded \u001b[39m+\u001b[39m\u001b[39m=\u001b[39m \u001b[39m1\u001b[39m\n\u001b[1;32m    635\u001b[0m \u001b[39mif\u001b[39;00m \u001b[39mself\u001b[39m\u001b[39m.\u001b[39m_dataset_kind \u001b[39m==\u001b[39m _DatasetKind\u001b[39m.\u001b[39mIterable \u001b[39mand\u001b[39;00m \\\n\u001b[1;32m    636\u001b[0m         \u001b[39mself\u001b[39m\u001b[39m.\u001b[39m_IterableDataset_len_called \u001b[39mis\u001b[39;00m \u001b[39mnot\u001b[39;00m \u001b[39mNone\u001b[39;00m \u001b[39mand\u001b[39;00m \\\n\u001b[1;32m    637\u001b[0m         \u001b[39mself\u001b[39m\u001b[39m.\u001b[39m_num_yielded \u001b[39m>\u001b[39m \u001b[39mself\u001b[39m\u001b[39m.\u001b[39m_IterableDataset_len_called:\n",
      "File \u001b[0;32m~/miniconda3/envs/torch-cpu/lib/python3.11/site-packages/torch/utils/data/dataloader.py:677\u001b[0m, in \u001b[0;36m_SingleProcessDataLoaderIter._next_data\u001b[0;34m(self)\u001b[0m\n\u001b[1;32m    675\u001b[0m \u001b[39mdef\u001b[39;00m \u001b[39m_next_data\u001b[39m(\u001b[39mself\u001b[39m):\n\u001b[1;32m    676\u001b[0m     index \u001b[39m=\u001b[39m \u001b[39mself\u001b[39m\u001b[39m.\u001b[39m_next_index()  \u001b[39m# may raise StopIteration\u001b[39;00m\n\u001b[0;32m--> 677\u001b[0m     data \u001b[39m=\u001b[39m \u001b[39mself\u001b[39m\u001b[39m.\u001b[39m_dataset_fetcher\u001b[39m.\u001b[39mfetch(index)  \u001b[39m# may raise StopIteration\u001b[39;00m\n\u001b[1;32m    678\u001b[0m     \u001b[39mif\u001b[39;00m \u001b[39mself\u001b[39m\u001b[39m.\u001b[39m_pin_memory:\n\u001b[1;32m    679\u001b[0m         data \u001b[39m=\u001b[39m _utils\u001b[39m.\u001b[39mpin_memory\u001b[39m.\u001b[39mpin_memory(data, \u001b[39mself\u001b[39m\u001b[39m.\u001b[39m_pin_memory_device)\n",
      "File \u001b[0;32m~/miniconda3/envs/torch-cpu/lib/python3.11/site-packages/torch/utils/data/_utils/fetch.py:51\u001b[0m, in \u001b[0;36m_MapDatasetFetcher.fetch\u001b[0;34m(self, possibly_batched_index)\u001b[0m\n\u001b[1;32m     49\u001b[0m         data \u001b[39m=\u001b[39m \u001b[39mself\u001b[39m\u001b[39m.\u001b[39mdataset\u001b[39m.\u001b[39m__getitems__(possibly_batched_index)\n\u001b[1;32m     50\u001b[0m     \u001b[39melse\u001b[39;00m:\n\u001b[0;32m---> 51\u001b[0m         data \u001b[39m=\u001b[39m [\u001b[39mself\u001b[39m\u001b[39m.\u001b[39mdataset[idx] \u001b[39mfor\u001b[39;00m idx \u001b[39min\u001b[39;00m possibly_batched_index]\n\u001b[1;32m     52\u001b[0m \u001b[39melse\u001b[39;00m:\n\u001b[1;32m     53\u001b[0m     data \u001b[39m=\u001b[39m \u001b[39mself\u001b[39m\u001b[39m.\u001b[39mdataset[possibly_batched_index]\n",
      "File \u001b[0;32m~/miniconda3/envs/torch-cpu/lib/python3.11/site-packages/torch/utils/data/_utils/fetch.py:51\u001b[0m, in \u001b[0;36m<listcomp>\u001b[0;34m(.0)\u001b[0m\n\u001b[1;32m     49\u001b[0m         data \u001b[39m=\u001b[39m \u001b[39mself\u001b[39m\u001b[39m.\u001b[39mdataset\u001b[39m.\u001b[39m__getitems__(possibly_batched_index)\n\u001b[1;32m     50\u001b[0m     \u001b[39melse\u001b[39;00m:\n\u001b[0;32m---> 51\u001b[0m         data \u001b[39m=\u001b[39m [\u001b[39mself\u001b[39m\u001b[39m.\u001b[39mdataset[idx] \u001b[39mfor\u001b[39;00m idx \u001b[39min\u001b[39;00m possibly_batched_index]\n\u001b[1;32m     52\u001b[0m \u001b[39melse\u001b[39;00m:\n\u001b[1;32m     53\u001b[0m     data \u001b[39m=\u001b[39m \u001b[39mself\u001b[39m\u001b[39m.\u001b[39mdataset[possibly_batched_index]\n",
      "Cell \u001b[0;32mIn[43], line 14\u001b[0m, in \u001b[0;36mTrajectoryDataset.__getitem__\u001b[0;34m(self, idx)\u001b[0m\n\u001b[1;32m     13\u001b[0m \u001b[39mdef\u001b[39;00m \u001b[39m__getitem__\u001b[39m(\u001b[39mself\u001b[39m, idx):\n\u001b[0;32m---> 14\u001b[0m     \u001b[39mreturn\u001b[39;00m \u001b[39mself\u001b[39m\u001b[39m.\u001b[39mold_states[idx], \u001b[39mself\u001b[39m\u001b[39m.\u001b[39mold_actions[idx], \u001b[39mself\u001b[39m\u001b[39m.\u001b[39mold_log_probs[idx], \u001b[39mself\u001b[39m\u001b[39m.\u001b[39mold_state_values[idx]\n",
      "\u001b[0;31mKeyError\u001b[0m: 1"
     ]
    }
   ],
   "source": [
    "num_of_epochs = 1\n",
    "\n",
    "# Optimize policy for n number of epochs\n",
    "# for _ in range(num_of_epochs):\n",
    "for old_states, old_actions, old_log_probs, old_state_values in dataloader:\n",
    "    print(old_actions.shape)"
   ]
  },
  {
   "cell_type": "code",
   "execution_count": null,
   "metadata": {},
   "outputs": [],
   "source": []
  },
  {
   "cell_type": "markdown",
   "metadata": {},
   "source": [
    "***"
   ]
  },
  {
   "cell_type": "code",
   "execution_count": 35,
   "metadata": {},
   "outputs": [],
   "source": [
    "import pandas as pd"
   ]
  },
  {
   "cell_type": "code",
   "execution_count": 62,
   "metadata": {},
   "outputs": [],
   "source": [
    "import torch\n",
    "import torch.nn as nn\n",
    "import numpy as np\n",
    "\n",
    "class Net(nn.Module):\n",
    "    def __init__(self):\n",
    "        super(Net, self).__init__()\n",
    "        self.cnn = nn.Sequential(\n",
    "            nn.Conv2d(12, 32, kernel_size=8, stride=4),\n",
    "            nn.ReLU(),\n",
    "            nn.Conv2d(32, 64, kernel_size=4, stride=2),\n",
    "            nn.ReLU(),\n",
    "            nn.Conv2d(64, 64, kernel_size=3, stride=1),\n",
    "            nn.ReLU()\n",
    "        )\n",
    "\n",
    "        self.lstm = nn.LSTM(input_size=7*7*64, hidden_size=512, num_layers=1)\n",
    "\n",
    "        self.fc_mu = nn.Linear(512, 2)\n",
    "        self.fc_log_std = nn.Linear(512, 2)\n",
    "\n",
    "        self.log_std_min = -20\n",
    "        self.log_std_max = 2\n",
    "\n",
    "\n",
    "    def forward(self, x):\n",
    "        x = self.cnn(x)\n",
    "        x = x.view(x.size(0), -1)\n",
    "        x, _ = self.lstm(x.unsqueeze(0))\n",
    "        x = x.squeeze(0)\n",
    "        \n",
    "        mu = self.fc_mu(x)\n",
    "        log_std = self.fc_log_std(x)\n",
    "        log_std = torch.clamp(log_std, self.log_std_min, self.log_std_max)\n",
    "        std = torch.exp(log_std)\n",
    "        return mu, std\n",
    "\n",
    "    def sample(self, x):\n",
    "        mu, std = self.forward(x)\n",
    "\n",
    "        # reparameterization trick\n",
    "        eps = torch.randn_like(std)\n",
    "        raw_action = mu + eps*std\n",
    "\n",
    "        # squashing\n",
    "        squashed_action = torch.tanh(raw_action)\n",
    "        return squashed_action\n",
    "\n",
    "net = Net()\n"
   ]
  },
  {
   "cell_type": "code",
   "execution_count": 63,
   "metadata": {},
   "outputs": [],
   "source": [
    "batch_size = 10000\n",
    "data = torch.randn(batch_size, 12, 84, 84)"
   ]
  },
  {
   "cell_type": "code",
   "execution_count": 64,
   "metadata": {},
   "outputs": [
    {
     "name": "stdout",
     "output_type": "stream",
     "text": [
      "torch.Size([10000, 2])\n",
      "torch.Size([10000, 2])\n"
     ]
    }
   ],
   "source": [
    "# Forward pass through the model\n",
    "mu, std = net(data)\n",
    "\n",
    "print(mu.shape)  # should be [10, 2]\n",
    "print(std.shape)  # should be [10, 2]"
   ]
  },
  {
   "cell_type": "code",
   "execution_count": 65,
   "metadata": {},
   "outputs": [
    {
     "data": {
      "text/plain": [
       "tensor([ 0.0277, -0.0366], grad_fn=<MeanBackward1>)"
      ]
     },
     "execution_count": 65,
     "metadata": {},
     "output_type": "execute_result"
    }
   ],
   "source": [
    "torch.mean(mu, axis=0)"
   ]
  },
  {
   "cell_type": "code",
   "execution_count": 70,
   "metadata": {},
   "outputs": [
    {
     "data": {
      "text/plain": [
       "tensor([0.9788, 1.0145], grad_fn=<MeanBackward1>)"
      ]
     },
     "execution_count": 70,
     "metadata": {},
     "output_type": "execute_result"
    }
   ],
   "source": [
    "torch.mean(std, axis=0)"
   ]
  },
  {
   "cell_type": "code",
   "execution_count": 66,
   "metadata": {},
   "outputs": [
    {
     "name": "stdout",
     "output_type": "stream",
     "text": [
      "torch.Size([10000, 2])\n"
     ]
    }
   ],
   "source": [
    "# Generate actions\n",
    "actions = net.sample(data)\n",
    "\n",
    "print(actions.shape)  # should be [10, 2]"
   ]
  },
  {
   "cell_type": "code",
   "execution_count": 67,
   "metadata": {},
   "outputs": [
    {
     "data": {
      "text/plain": [
       "tensor([[ 0.6719,  0.0295],\n",
       "        [-0.6950, -0.0288],\n",
       "        [-0.1487, -0.1593],\n",
       "        [ 0.7323, -0.1431],\n",
       "        [ 0.2979,  0.6302]], grad_fn=<SliceBackward0>)"
      ]
     },
     "execution_count": 67,
     "metadata": {},
     "output_type": "execute_result"
    }
   ],
   "source": [
    "actions[:5]"
   ]
  },
  {
   "cell_type": "code",
   "execution_count": 68,
   "metadata": {},
   "outputs": [],
   "source": [
    "acts = actions.detach().numpy()"
   ]
  },
  {
   "cell_type": "code",
   "execution_count": 69,
   "metadata": {},
   "outputs": [
    {
     "data": {
      "text/plain": [
       "tensor([ 0.0067, -0.0205], grad_fn=<MeanBackward1>)"
      ]
     },
     "execution_count": 69,
     "metadata": {},
     "output_type": "execute_result"
    }
   ],
   "source": [
    "torch.mean(actions, axis=0)"
   ]
  },
  {
   "cell_type": "code",
   "execution_count": 61,
   "metadata": {},
   "outputs": [],
   "source": [
    "acts = actions.detach().numpy()\n",
    "action_1 = acts[:,0]\n",
    "action_2 = acts[:,1]"
   ]
  },
  {
   "cell_type": "code",
   "execution_count": null,
   "metadata": {},
   "outputs": [],
   "source": [
    "pd.Series(action_1).plot.kde()"
   ]
  },
  {
   "cell_type": "code",
   "execution_count": null,
   "metadata": {},
   "outputs": [],
   "source": [
    "pd.Series(action_2).plot.kde()"
   ]
  },
  {
   "cell_type": "code",
   "execution_count": 40,
   "metadata": {},
   "outputs": [
    {
     "data": {
      "text/plain": [
       "array([[-0.8542823 , -0.35195968],\n",
       "       [ 0.64578325,  0.90595937],\n",
       "       [-0.7733706 , -0.9482286 ],\n",
       "       [-0.9277479 , -0.7646876 ],\n",
       "       [ 0.78873456,  0.8094771 ]], dtype=float32)"
      ]
     },
     "execution_count": 40,
     "metadata": {},
     "output_type": "execute_result"
    }
   ],
   "source": [
    "acts[:5]"
   ]
  },
  {
   "cell_type": "code",
   "execution_count": 42,
   "metadata": {},
   "outputs": [],
   "source": [
    "# get first action\n",
    "action_1 = acts[:,0]\n",
    "action_2 = acts[:,1]"
   ]
  },
  {
   "cell_type": "code",
   "execution_count": 39,
   "metadata": {},
   "outputs": [
    {
     "data": {
      "text/plain": [
       "array([-0.8542823 ,  0.64578325, -0.7733706 , -0.9277479 ,  0.78873456,\n",
       "       -0.42031497, -0.58163494,  0.689539  ,  0.28680146,  0.6198004 ],\n",
       "      dtype=float32)"
      ]
     },
     "execution_count": 39,
     "metadata": {},
     "output_type": "execute_result"
    }
   ],
   "source": [
    "action_1[:10]"
   ]
  },
  {
   "cell_type": "code",
   "execution_count": 45,
   "metadata": {},
   "outputs": [
    {
     "data": {
      "text/plain": [
       "<Axes: ylabel='Density'>"
      ]
     },
     "execution_count": 45,
     "metadata": {},
     "output_type": "execute_result"
    },
    {
     "data": {
      "image/png": "[encoded data removed]",
      "text/plain": [
       "<Figure size 640x480 with 1 Axes>"
      ]
     },
     "metadata": {},
     "output_type": "display_data"
    }
   ],
   "source": [
    "pd.Series(action_1).plot.kde()"
   ]
  },
  {
   "cell_type": "code",
   "execution_count": 43,
   "metadata": {},
   "outputs": [
    {
     "data": {
      "text/plain": [
       "<Axes: ylabel='Density'>"
      ]
     },
     "execution_count": 43,
     "metadata": {},
     "output_type": "execute_result"
    },
    {
     "data": {
      "image/png": "[encoded data removed]",
      "text/plain": [
       "<Figure size 640x480 with 1 Axes>"
      ]
     },
     "metadata": {},
     "output_type": "display_data"
    }
   ],
   "source": [
    "pd.Series(action_2).plot.kde()"
   ]
  },
  {
   "cell_type": "code",
   "execution_count": 55,
   "metadata": {},
   "outputs": [
    {
     "name": "stdout",
     "output_type": "stream",
     "text": [
      "tensor([[-0.0481,  0.0330],\n",
      "        [-0.0534,  0.0201],\n",
      "        [-0.0307,  0.0176],\n",
      "        ...,\n",
      "        [-0.0382,  0.0259],\n",
      "        [-0.0428,  0.0334],\n",
      "        [-0.0437,  0.0148]], grad_fn=<TanhBackward0>)\n"
     ]
    }
   ],
   "source": [
    "# Forward pass through the model\n",
    "actions = net(data)\n",
    "\n",
    "print(actions)  # should be [10, 2]"
   ]
  },
  {
   "cell_type": "code",
   "execution_count": 60,
   "metadata": {},
   "outputs": [
    {
     "data": {
      "text/plain": [
       "torch.Size([10000, 2])"
      ]
     },
     "execution_count": 60,
     "metadata": {},
     "output_type": "execute_result"
    }
   ],
   "source": [
    "actions.shape"
   ]
  },
  {
   "cell_type": "code",
   "execution_count": 56,
   "metadata": {},
   "outputs": [],
   "source": [
    "acts = actions.detach().numpy()"
   ]
  },
  {
   "cell_type": "code",
   "execution_count": 57,
   "metadata": {},
   "outputs": [],
   "source": [
    "# get first action\n",
    "action_1 = acts[:,0]\n",
    "action_2 = acts[:,1]"
   ]
  },
  {
   "cell_type": "code",
   "execution_count": 58,
   "metadata": {},
   "outputs": [
    {
     "data": {
      "text/plain": [
       "<Axes: ylabel='Density'>"
      ]
     },
     "execution_count": 58,
     "metadata": {},
     "output_type": "execute_result"
    },
    {
     "data": {
      "image/png": "[encoded data removed]",
      "text/plain": [
       "<Figure size 640x480 with 1 Axes>"
      ]
     },
     "metadata": {},
     "output_type": "display_data"
    }
   ],
   "source": [
    "pd.Series(action_1).plot.kde()"
   ]
  },
  {
   "cell_type": "code",
   "execution_count": 59,
   "metadata": {},
   "outputs": [
    {
     "data": {
      "text/plain": [
       "<Axes: ylabel='Density'>"
      ]
     },
     "execution_count": 59,
     "metadata": {},
     "output_type": "execute_result"
    },
    {
     "data": {
      "image/png": "[encoded data removed]",
      "text/plain": [
       "<Figure size 640x480 with 1 Axes>"
      ]
     },
     "metadata": {},
     "output_type": "display_data"
    }
   ],
   "source": [
    "pd.Series(action_2).plot.kde()"
   ]
  },
  {
   "cell_type": "markdown",
   "metadata": {},
   "source": [
    "***"
   ]
  }
 ],
 "metadata": {
  "kernelspec": {
   "display_name": "torch-gpu",
   "language": "python",
   "name": "python3"
  },
  "language_info": {
   "codemirror_mode": {
    "name": "ipython",
    "version": 3
   },
   "file_extension": ".py",
   "mimetype": "text/x-python",
   "name": "python",
   "nbconvert_exporter": "python",
   "pygments_lexer": "ipython3",
   "version": "3.11.3"
  },
  "orig_nbformat": 4
 },
 "nbformat": 4,
 "nbformat_minor": 2
}

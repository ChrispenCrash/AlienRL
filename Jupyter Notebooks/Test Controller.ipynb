{
 "cells": [
  {
   "cell_type": "code",
   "execution_count": 31,
   "metadata": {},
   "outputs": [],
   "source": [
    "from controller import GameController\n",
    "import time\n",
    "import win32gui"
   ]
  },
  {
   "cell_type": "code",
   "execution_count": 32,
   "metadata": {},
   "outputs": [
    {
     "data": {
      "text/plain": [
       "7276524"
      ]
     },
     "execution_count": 32,
     "metadata": {},
     "output_type": "execute_result"
    }
   ],
   "source": [
    "win32gui.FindWindow(None, 'Assetto Corsa')"
   ]
  },
  {
   "cell_type": "code",
   "execution_count": 33,
   "metadata": {},
   "outputs": [],
   "source": [
    "controller = GameController()"
   ]
  },
  {
   "cell_type": "code",
   "execution_count": 34,
   "metadata": {},
   "outputs": [],
   "source": [
    "time.sleep(2)\n",
    "controller.pause_game()"
   ]
  },
  {
   "cell_type": "code",
   "execution_count": 35,
   "metadata": {},
   "outputs": [],
   "source": [
    "time.sleep(2)\n",
    "controller.reset_game()"
   ]
  },
  {
   "cell_type": "code",
   "execution_count": 36,
   "metadata": {},
   "outputs": [
    {
     "ename": "vJoyException",
     "evalue": "",
     "output_type": "error",
     "traceback": [
      "\u001b[1;31m---------------------------------------------------------------------------\u001b[0m",
      "\u001b[1;31mvJoyException\u001b[0m                             Traceback (most recent call last)",
      "Cell \u001b[1;32mIn[36], line 1\u001b[0m\n\u001b[1;32m----> 1\u001b[0m controller\u001b[39m.\u001b[39;49mset_inputs(\u001b[39m0\u001b[39;49m, \u001b[39m1\u001b[39;49m, \u001b[39m1\u001b[39;49m)\n",
      "File \u001b[1;32mc:\\Users\\CHRIS\\Google Drive\\Projects\\Python\\AlienRL\\tests\\controller.py:17\u001b[0m, in \u001b[0;36mGameController.set_inputs\u001b[1;34m(self, steering_angle, brake_pressure, gas)\u001b[0m\n\u001b[0;32m     15\u001b[0m \u001b[39mself\u001b[39m\u001b[39m.\u001b[39mbring_to_front()\n\u001b[0;32m     16\u001b[0m \u001b[39m# Set the steering angle, brake pressure, and gas\u001b[39;00m\n\u001b[1;32m---> 17\u001b[0m \u001b[39mself\u001b[39;49m\u001b[39m.\u001b[39;49mjoystick\u001b[39m.\u001b[39;49mset_axis(pyvjoy\u001b[39m.\u001b[39;49mHID_USAGE_X, \u001b[39mint\u001b[39;49m((steering_angle \u001b[39m+\u001b[39;49m \u001b[39m1\u001b[39;49m) \u001b[39m*\u001b[39;49m \u001b[39m16383.5\u001b[39;49m))\n\u001b[0;32m     18\u001b[0m \u001b[39mself\u001b[39m\u001b[39m.\u001b[39mjoystick\u001b[39m.\u001b[39mset_axis(pyvjoy\u001b[39m.\u001b[39mHID_USAGE_Y, \u001b[39mint\u001b[39m(brake_pressure \u001b[39m*\u001b[39m \u001b[39m32767\u001b[39m))\n\u001b[0;32m     19\u001b[0m \u001b[39mself\u001b[39m\u001b[39m.\u001b[39mjoystick\u001b[39m.\u001b[39mset_axis(pyvjoy\u001b[39m.\u001b[39mHID_USAGE_Z, \u001b[39mint\u001b[39m(gas \u001b[39m*\u001b[39m \u001b[39m32767\u001b[39m))\n",
      "File \u001b[1;32mc:\\Users\\CHRIS\\miniconda3\\envs\\torch-gpu\\Lib\\site-packages\\pyvjoy\\vjoydevice.py:39\u001b[0m, in \u001b[0;36mVJoyDevice.set_axis\u001b[1;34m(self, AxisID, AxisValue)\u001b[0m\n\u001b[0;32m     37\u001b[0m \u001b[39mdef\u001b[39;00m \u001b[39mset_axis\u001b[39m(\u001b[39mself\u001b[39m,AxisID, AxisValue):\n\u001b[0;32m     38\u001b[0m \u001b[39m\t\u001b[39m\u001b[39m\"\"\"Set a given Axis (one of pyvjoy.HID_USAGE_X etc) to a value (0x0000 - 0x8000)\"\"\"\u001b[39;00m\n\u001b[1;32m---> 39\u001b[0m \t\u001b[39mreturn\u001b[39;00m \u001b[39mself\u001b[39;49m\u001b[39m.\u001b[39;49m_sdk\u001b[39m.\u001b[39;49mSetAxis(AxisValue,\u001b[39mself\u001b[39;49m\u001b[39m.\u001b[39;49mrID,AxisID)\n",
      "File \u001b[1;32mc:\\Users\\CHRIS\\miniconda3\\envs\\torch-gpu\\Lib\\site-packages\\pyvjoy\\_sdk.py:94\u001b[0m, in \u001b[0;36mSetAxis\u001b[1;34m(AxisValue, rID, AxisID)\u001b[0m\n\u001b[0;32m     91\u001b[0m result \u001b[39m=\u001b[39m _vj\u001b[39m.\u001b[39mSetAxis(AxisValue,rID,AxisID)\n\u001b[0;32m     92\u001b[0m \u001b[39mif\u001b[39;00m result \u001b[39m==\u001b[39m \u001b[39m0\u001b[39m:\n\u001b[0;32m     93\u001b[0m \t\u001b[39m#TODO raise specific exception\u001b[39;00m\n\u001b[1;32m---> 94\u001b[0m \t\u001b[39mraise\u001b[39;00m vJoyException()\n\u001b[0;32m     95\u001b[0m \u001b[39melse\u001b[39;00m:\n\u001b[0;32m     96\u001b[0m \t\u001b[39mreturn\u001b[39;00m \u001b[39mTrue\u001b[39;00m\n",
      "\u001b[1;31mvJoyException\u001b[0m: "
     ]
    }
   ],
   "source": [
    "controller.set_inputs(0, 1, 1)"
   ]
  },
  {
   "cell_type": "code",
   "execution_count": null,
   "metadata": {},
   "outputs": [],
   "source": [
    "controller.set_inputs(0, 0.5, 0.5)"
   ]
  },
  {
   "cell_type": "markdown",
   "metadata": {},
   "source": []
  },
  {
   "cell_type": "markdown",
   "metadata": {},
   "source": [
    "***"
   ]
  },
  {
   "cell_type": "code",
   "execution_count": 20,
   "metadata": {},
   "outputs": [],
   "source": [
    "from time import sleep\n",
    "import win32gui, win32ui, win32con, win32api"
   ]
  },
  {
   "cell_type": "code",
   "execution_count": 29,
   "metadata": {},
   "outputs": [],
   "source": [
    "def list_window_names():\n",
    "    def winEnumHandler(hwnd, ctx):\n",
    "        if win32gui.IsWindowVisible(hwnd):\n",
    "            print(hex(hwnd), win32gui.GetWindowText(hwnd))\n",
    "\n",
    "    win32gui.EnumWindows(winEnumHandler, None)\n",
    "\n",
    "def list_inner_windows(whndl):\n",
    "    def callback(hwnd, hwnds):\n",
    "        if win32gui.IsWindowVisible(hwnd) and win32gui.IsWindowEnabled(hwnd):\n",
    "            hwnds[win32gui.GetClassName(hwnd)] = hwnd\n",
    "        return True\n",
    "    hwnds = {}\n",
    "    win32gui.EnumChildWindows(whndl, callback, hwnds)\n",
    "    return hwnds\n",
    "\n",
    "def main():\n",
    "    window_name = 'Untitled - Notepad'\n",
    "    hwnd = win32gui.FindWindow(None, window_name)\n",
    "    win = win32ui.CreateWindowFromHandle(hwnd)\n",
    "    win.SendMessage(win32con.WM_KEYDOWN, 0x32, 0)\n",
    "    sleep(0.01)\n",
    "    win.SendMessage(win32con.WM_KEYUP, 0x32, 0)"
   ]
  },
  {
   "cell_type": "code",
   "execution_count": 30,
   "metadata": {},
   "outputs": [],
   "source": [
    "main()"
   ]
  },
  {
   "cell_type": "markdown",
   "metadata": {},
   "source": [
    "## Sentdex attempt"
   ]
  },
  {
   "cell_type": "code",
   "execution_count": 16,
   "metadata": {},
   "outputs": [],
   "source": [
    "import ctypes\n",
    "import time\n",
    "\n",
    "SendInput = ctypes.windll.user32.SendInput\n",
    "\n",
    "\n",
    "W = 0x11\n",
    "A = 0x1E\n",
    "S = 0x1F\n",
    "D = 0x20\n",
    "\n",
    "NP_2 = 0x50\n",
    "NP_4 = 0x4B\n",
    "NP_6 = 0x4D\n",
    "NP_8 = 0x48\n",
    "\n",
    "# C struct redefinitions \n",
    "PUL = ctypes.POINTER(ctypes.c_ulong)\n",
    "class KeyBdInput(ctypes.Structure):\n",
    "    _fields_ = [(\"wVk\", ctypes.c_ushort),\n",
    "                (\"wScan\", ctypes.c_ushort),\n",
    "                (\"dwFlags\", ctypes.c_ulong),\n",
    "                (\"time\", ctypes.c_ulong),\n",
    "                (\"dwExtraInfo\", PUL)]\n",
    "\n",
    "class HardwareInput(ctypes.Structure):\n",
    "    _fields_ = [(\"uMsg\", ctypes.c_ulong),\n",
    "                (\"wParamL\", ctypes.c_short),\n",
    "                (\"wParamH\", ctypes.c_ushort)]\n",
    "\n",
    "class MouseInput(ctypes.Structure):\n",
    "    _fields_ = [(\"dx\", ctypes.c_long),\n",
    "                (\"dy\", ctypes.c_long),\n",
    "                (\"mouseData\", ctypes.c_ulong),\n",
    "                (\"dwFlags\", ctypes.c_ulong),\n",
    "                (\"time\",ctypes.c_ulong),\n",
    "                (\"dwExtraInfo\", PUL)]\n",
    "\n",
    "class Input_I(ctypes.Union):\n",
    "    _fields_ = [(\"ki\", KeyBdInput),\n",
    "                 (\"mi\", MouseInput),\n",
    "                 (\"hi\", HardwareInput)]\n",
    "\n",
    "class Input(ctypes.Structure):\n",
    "    _fields_ = [(\"type\", ctypes.c_ulong),\n",
    "                (\"ii\", Input_I)]\n",
    "\n",
    "# Actuals Functions\n",
    "\n",
    "def PressKey(hexKeyCode):\n",
    "    extra = ctypes.c_ulong(0)\n",
    "    ii_ = Input_I()\n",
    "    ii_.ki = KeyBdInput( 0, hexKeyCode, 0x0008, 0, ctypes.pointer(extra) )\n",
    "    x = Input( ctypes.c_ulong(1), ii_ )\n",
    "    ctypes.windll.user32.SendInput(1, ctypes.pointer(x), ctypes.sizeof(x))\n",
    "\n",
    "def ReleaseKey(hexKeyCode):\n",
    "    extra = ctypes.c_ulong(0)\n",
    "    ii_ = Input_I()\n",
    "    ii_.ki = KeyBdInput( 0, hexKeyCode, 0x0008 | 0x0002, 0, ctypes.pointer(extra) )\n",
    "    x = Input( ctypes.c_ulong(1), ii_ )\n",
    "    ctypes.windll.user32.SendInput(1, ctypes.pointer(x), ctypes.sizeof(x))"
   ]
  },
  {
   "cell_type": "code",
   "execution_count": 18,
   "metadata": {},
   "outputs": [],
   "source": [
    "time.sleep(2)\n",
    "PressKey(0x1B)\n",
    "time.sleep(1)\n",
    "ReleaseKey(0x1B)\n",
    "time.sleep(1)"
   ]
  },
  {
   "cell_type": "markdown",
   "metadata": {},
   "source": [
    "***\n",
    "## Testing new controller"
   ]
  },
  {
   "cell_type": "code",
   "execution_count": 28,
   "metadata": {},
   "outputs": [],
   "source": [
    "import numpy as np\n",
    "from controller2 import GameController\n",
    "from time import sleep"
   ]
  },
  {
   "cell_type": "code",
   "execution_count": 29,
   "metadata": {},
   "outputs": [],
   "source": [
    "game_controller = GameController()"
   ]
  },
  {
   "cell_type": "code",
   "execution_count": 30,
   "metadata": {},
   "outputs": [],
   "source": [
    "game_controller.set_inputs(0, 0, 0)"
   ]
  },
  {
   "cell_type": "code",
   "execution_count": 17,
   "metadata": {},
   "outputs": [],
   "source": [
    "for i in np.arange(0,1.01,0.01):\n",
    "    game_controller.set_inputs(0, i, i)\n",
    "    sleep(0.01)"
   ]
  },
  {
   "cell_type": "code",
   "execution_count": 32,
   "metadata": {},
   "outputs": [
    {
     "name": "stdout",
     "output_type": "stream",
     "text": [
      "Resetting inputs\n"
     ]
    }
   ],
   "source": [
    "print(\"Resetting inputs\")\n",
    "game_controller.reset_inputs()"
   ]
  },
  {
   "cell_type": "code",
   "execution_count": 19,
   "metadata": {},
   "outputs": [
    {
     "name": "stdout",
     "output_type": "stream",
     "text": [
      "Pausing game\n"
     ]
    }
   ],
   "source": [
    "print(\"Pausing game\")\n",
    "game_controller.pause_game()"
   ]
  },
  {
   "cell_type": "code",
   "execution_count": 20,
   "metadata": {},
   "outputs": [
    {
     "name": "stdout",
     "output_type": "stream",
     "text": [
      "Unpausing game\n"
     ]
    }
   ],
   "source": [
    "print(\"Unpausing game\")\n",
    "game_controller.pause_game()"
   ]
  },
  {
   "cell_type": "code",
   "execution_count": 21,
   "metadata": {},
   "outputs": [
    {
     "name": "stdout",
     "output_type": "stream",
     "text": [
      "Resetting game\n"
     ]
    }
   ],
   "source": [
    "print(\"Resetting game\")\n",
    "game_controller.reset_game()"
   ]
  },
  {
   "cell_type": "code",
   "execution_count": 31,
   "metadata": {},
   "outputs": [
    {
     "name": "stdout",
     "output_type": "stream",
     "text": [
      "Accelerating!!\n"
     ]
    }
   ],
   "source": [
    "print(\"Accelerating!!\")\n",
    "game_controller.set_inputs(0,0,1)"
   ]
  },
  {
   "cell_type": "code",
   "execution_count": 55,
   "metadata": {},
   "outputs": [],
   "source": [
    "game_controller.close()"
   ]
  },
  {
   "cell_type": "code",
   "execution_count": null,
   "metadata": {},
   "outputs": [],
   "source": []
  },
  {
   "cell_type": "markdown",
   "metadata": {},
   "source": [
    "***"
   ]
  },
  {
   "cell_type": "code",
   "execution_count": 33,
   "metadata": {},
   "outputs": [],
   "source": [
    "import vgamepad as vg"
   ]
  },
  {
   "cell_type": "code",
   "execution_count": 34,
   "metadata": {},
   "outputs": [],
   "source": [
    "gamepad = vg.VX360Gamepad()"
   ]
  },
  {
   "cell_type": "code",
   "execution_count": 38,
   "metadata": {},
   "outputs": [],
   "source": [
    "gamepad.press_button(vg.XUSB_BUTTON.XUSB_GAMEPAD_START)\n",
    "gamepad.update()"
   ]
  },
  {
   "cell_type": "code",
   "execution_count": 54,
   "metadata": {},
   "outputs": [],
   "source": [
    "button = vg.XUSB_BUTTON.XUSB_GAMEPAD_DPAD_LEFT\n",
    "gamepad.press_button(button=button)\n",
    "gamepad.update()\n",
    "sleep(0.1)\n",
    "gamepad.release_button(button=button)\n",
    "gamepad.update()"
   ]
  },
  {
   "cell_type": "code",
   "execution_count": 44,
   "metadata": {},
   "outputs": [],
   "source": [
    "gamepad.reset()\n",
    "gamepad.update()"
   ]
  },
  {
   "cell_type": "code",
   "execution_count": null,
   "metadata": {},
   "outputs": [],
   "source": []
  }
 ],
 "metadata": {
  "kernelspec": {
   "display_name": "torch-gpu",
   "language": "python",
   "name": "python3"
  },
  "language_info": {
   "codemirror_mode": {
    "name": "ipython",
    "version": 3
   },
   "file_extension": ".py",
   "mimetype": "text/x-python",
   "name": "python",
   "nbconvert_exporter": "python",
   "pygments_lexer": "ipython3",
   "version": "3.11.3"
  },
  "orig_nbformat": 4
 },
 "nbformat": 4,
 "nbformat_minor": 2
}

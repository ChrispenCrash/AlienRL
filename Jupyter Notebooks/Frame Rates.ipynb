{
 "cells": [
  {
   "cell_type": "code",
   "execution_count": 18,
   "metadata": {},
   "outputs": [],
   "source": [
    "import time\n",
    "import random\n",
    "import keyboard\n",
    "import numpy as np\n",
    "from IPython.display import clear_output"
   ]
  },
  {
   "cell_type": "code",
   "execution_count": 2,
   "metadata": {},
   "outputs": [],
   "source": [
    "def choose_action():\n",
    "    return random.randint(0, 1)"
   ]
  },
  {
   "cell_type": "code",
   "execution_count": 25,
   "metadata": {},
   "outputs": [
    {
     "name": "stdout",
     "output_type": "stream",
     "text": [
      "Frame counter: 1580\n",
      "Decision: 0\n",
      "Sleep: 0.015665785471598307\n",
      "Stopped.\n"
     ]
    }
   ],
   "source": [
    "frame_counter = 0\n",
    "decision_counter = 0\n",
    "\n",
    "while True:  # Main game loop\n",
    "\n",
    "    clear_output(wait=True)\n",
    "\n",
    "    start_time = time.time()\n",
    "\n",
    "    frame_counter += 1\n",
    "\n",
    "    # Adjust decision frequency based on frame rate\n",
    "    decision_frequency = 4  # Adjust this value as needed\n",
    "\n",
    "    decision_counter += 1\n",
    "    if decision_counter >= decision_frequency:\n",
    "        action = choose_action()\n",
    "        decision_counter = 0\n",
    "\n",
    "    # Sleep to maintain frame rate\n",
    "    elapsed_time = time.time() - start_time\n",
    "    sleep_time = max(0, 1/60 - elapsed_time)  # 60 frames per second\n",
    "\n",
    "    print(f\"Frame counter: {frame_counter}\")\n",
    "    print(f\"Decision: {decision_counter}\")\n",
    "    print(f\"Sleep: {sleep_time}\")\n",
    "    time.sleep(sleep_time)\n",
    "\n",
    "    if keyboard.is_pressed('q'):\n",
    "        print(\"Stopped.\")\n",
    "        break\n"
   ]
  },
  {
   "cell_type": "code",
   "execution_count": null,
   "metadata": {},
   "outputs": [],
   "source": []
  },
  {
   "cell_type": "markdown",
   "metadata": {},
   "source": [
    "***\n",
    "### Count average loop speed in 1 second"
   ]
  },
  {
   "cell_type": "code",
   "execution_count": 17,
   "metadata": {},
   "outputs": [],
   "source": [
    "counters = []\n",
    "\n",
    "for _ in range(60):\n",
    "    counter = 0\n",
    "    start_time = time.time()\n",
    "    while True:\n",
    "        if time.time() - start_time >= 1:\n",
    "            break\n",
    "        counter += 1\n",
    "    counters.append(counter)"
   ]
  },
  {
   "cell_type": "code",
   "execution_count": 19,
   "metadata": {},
   "outputs": [],
   "source": [
    "counters = np.array(counters)"
   ]
  },
  {
   "cell_type": "code",
   "execution_count": 21,
   "metadata": {},
   "outputs": [
    {
     "data": {
      "text/plain": [
       "6920459.583333333"
      ]
     },
     "execution_count": 21,
     "metadata": {},
     "output_type": "execute_result"
    }
   ],
   "source": [
    "counters.mean()"
   ]
  }
 ],
 "metadata": {
  "kernelspec": {
   "display_name": "torch-gpu",
   "language": "python",
   "name": "python3"
  },
  "language_info": {
   "codemirror_mode": {
    "name": "ipython",
    "version": 3
   },
   "file_extension": ".py",
   "mimetype": "text/x-python",
   "name": "python",
   "nbconvert_exporter": "python",
   "pygments_lexer": "ipython3",
   "version": "3.11.3"
  },
  "orig_nbformat": 4
 },
 "nbformat": 4,
 "nbformat_minor": 2
}

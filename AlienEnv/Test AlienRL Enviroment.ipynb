{
 "cells": [
  {
   "cell_type": "markdown",
   "metadata": {},
   "source": [
    "### Testing compatibility with Gymnasium and Stable-Baselines 3"
   ]
  },
  {
   "cell_type": "code",
   "execution_count": 1,
   "metadata": {},
   "outputs": [],
   "source": [
    "from stable_baselines3.common.env_checker import check_env\n",
    "from alienrl_env import AlienRLEnv"
   ]
  },
  {
   "cell_type": "code",
   "execution_count": 2,
   "metadata": {},
   "outputs": [
    {
     "name": "stderr",
     "output_type": "stream",
     "text": [
      "c:\\Users\\CHRIS\\miniconda3\\envs\\torch-gpu\\Lib\\site-packages\\stable_baselines3\\common\\env_checker.py:238: UserWarning: Your observation framestack has an unconventional shape (neither an image, nor a 1D vector). We recommend you to flatten the observation to have only a 1D vector or use a custom policy to properly process the data.\n",
      "  warnings.warn(\n"
     ]
    }
   ],
   "source": [
    "env = AlienRLEnv()\n",
    "\n",
    "try:\n",
    "    check_env( env, warn=True)\n",
    "except AssertionError as msg:\n",
    "    print(msg)\n",
    "\n",
    "env.close()"
   ]
  },
  {
   "cell_type": "markdown",
   "metadata": {},
   "source": [
    "***\n",
    "### Testing step and reset functions"
   ]
  },
  {
   "cell_type": "code",
   "execution_count": 2,
   "metadata": {},
   "outputs": [
    {
     "ename": "ModuleNotFoundError",
     "evalue": "No module named 'AlienEnv'",
     "output_type": "error",
     "traceback": [
      "\u001b[1;31m---------------------------------------------------------------------------\u001b[0m",
      "\u001b[1;31mModuleNotFoundError\u001b[0m                       Traceback (most recent call last)",
      "Cell \u001b[1;32mIn[2], line 1\u001b[0m\n\u001b[1;32m----> 1\u001b[0m \u001b[39mfrom\u001b[39;00m \u001b[39malienrl_env\u001b[39;00m \u001b[39mimport\u001b[39;00m AlienRLEnv\n",
      "File \u001b[1;32mc:\\Users\\CHRIS\\Google Drive\\Projects\\Python\\AlienRL\\AlienEnv\\alienrl_env.py:8\u001b[0m\n\u001b[0;32m      5\u001b[0m \u001b[39mimport\u001b[39;00m \u001b[39mgymnasium\u001b[39;00m \u001b[39mas\u001b[39;00m \u001b[39mgym\u001b[39;00m\n\u001b[0;32m      6\u001b[0m \u001b[39mfrom\u001b[39;00m \u001b[39mgymnasium\u001b[39;00m \u001b[39mimport\u001b[39;00m spaces\n\u001b[1;32m----> 8\u001b[0m \u001b[39mfrom\u001b[39;00m \u001b[39mAlienEnv\u001b[39;00m\u001b[39m.\u001b[39;00m\u001b[39mgamestate\u001b[39;00m \u001b[39mimport\u001b[39;00m GameState\n\u001b[0;32m      9\u001b[0m \u001b[39mfrom\u001b[39;00m \u001b[39mAlienEnv\u001b[39;00m\u001b[39m.\u001b[39;00m\u001b[39mcontroller\u001b[39;00m \u001b[39mimport\u001b[39;00m GameController\n\u001b[0;32m     11\u001b[0m \u001b[39mclass\u001b[39;00m \u001b[39mAlienRLEnv\u001b[39;00m(gym\u001b[39m.\u001b[39mEnv):\n",
      "\u001b[1;31mModuleNotFoundError\u001b[0m: No module named 'AlienEnv'"
     ]
    }
   ],
   "source": [
    "from alienrl_env import AlienRLEnv"
   ]
  },
  {
   "cell_type": "code",
   "execution_count": 1,
   "metadata": {},
   "outputs": [
    {
     "ename": "NameError",
     "evalue": "name 'AlienRLEnv' is not defined",
     "output_type": "error",
     "traceback": [
      "\u001b[1;31m---------------------------------------------------------------------------\u001b[0m",
      "\u001b[1;31mNameError\u001b[0m                                 Traceback (most recent call last)",
      "Cell \u001b[1;32mIn[1], line 1\u001b[0m\n\u001b[1;32m----> 1\u001b[0m env \u001b[39m=\u001b[39m AlienRLEnv()\n\u001b[0;32m      2\u001b[0m obs, info \u001b[39m=\u001b[39m env\u001b[39m.\u001b[39mreset(rewind_time\u001b[39m=\u001b[39m\u001b[39m10\u001b[39m)\n\u001b[0;32m      3\u001b[0m env\u001b[39m.\u001b[39mclose()\n",
      "\u001b[1;31mNameError\u001b[0m: name 'AlienRLEnv' is not defined"
     ]
    }
   ],
   "source": [
    "env = AlienRLEnv()\n",
    "obs, info = env.reset(rewind_time=10)\n",
    "env.close()"
   ]
  },
  {
   "cell_type": "code",
   "execution_count": 8,
   "metadata": {},
   "outputs": [
    {
     "name": "stdout",
     "output_type": "stream",
     "text": [
      "dict_keys(['framestack', 'telemetry'])\n",
      "(4, 3, 84, 84)\n",
      "(20,)\n"
     ]
    }
   ],
   "source": [
    "print(obs.keys())\n",
    "print(obs['framestack'].shape)\n",
    "print(obs['telemetry'].shape)"
   ]
  },
  {
   "cell_type": "code",
   "execution_count": 9,
   "metadata": {},
   "outputs": [],
   "source": [
    "env = AlienRLEnv()"
   ]
  },
  {
   "cell_type": "code",
   "execution_count": 10,
   "metadata": {},
   "outputs": [
    {
     "name": "stdout",
     "output_type": "stream",
     "text": [
      "dict_keys(['framestack', 'telemetry'])\n",
      "(4, 3, 84, 84)\n",
      "(20,)\n",
      "4.7100658412091435e-06\n",
      "False\n",
      "False\n",
      "{'x': -630.8347778320312, 'y': 2236.033447265625, 'z': 146.9149169921875, 'speed': 0.00023550329206045717, 'heading': 2.5384795665740967, 'gear': 1, 'steerAngle': 0.0, 'brake': 0.0, 'gas': 0.0, 'normalizedCarPosition': 0.007855255156755447, 'num_wheels_off_track': 0, 'fl_ws': 0.08056867122650146, 'fr_ws': 0.061119962483644485, 'rl_ws': 0.06868772208690643, 'rr_ws': 0.0761180967092514, 'fl_sus': 0.07570087909698486, 'fr_sus': 0.07855848968029022, 'rl_sus': 0.09778551757335663, 'rr_sus': 0.09249474853277206, 'paused': False}\n"
     ]
    }
   ],
   "source": [
    "# Steer straight and accelerate 20%\n",
    "obs, reward, terminated, truncated, info = env.step([0.0,0.2])\n",
    "\n",
    "print(obs.keys())\n",
    "print(obs['framestack'].shape)\n",
    "print(obs['telemetry'].shape)\n",
    "print(reward)\n",
    "print(terminated)\n",
    "print(truncated)\n",
    "print(info)"
   ]
  },
  {
   "cell_type": "code",
   "execution_count": 11,
   "metadata": {},
   "outputs": [
    {
     "name": "stdout",
     "output_type": "stream",
     "text": [
      "dict_keys(['framestack', 'telemetry'])\n",
      "(4, 3, 84, 84)\n",
      "(20,)\n",
      "4.151141329202801e-06\n",
      "False\n",
      "False\n",
      "{'x': -630.8349609375, 'y': 2236.03369140625, 'z': 146.9149169921875, 'speed': 0.00020755706646014005, 'heading': 2.5383386611938477, 'gear': 1, 'steerAngle': 0.0, 'brake': 0.0, 'gas': 0.0, 'normalizedCarPosition': 0.007855255156755447, 'num_wheels_off_track': 0, 'fl_ws': 0.08044897019863129, 'fr_ws': 0.061052341014146805, 'rl_ws': 0.06869396567344666, 'rr_ws': 0.07607688009738922, 'fl_sus': 0.07568617165088654, 'fr_sus': 0.07856009900569916, 'rl_sus': 0.09779678285121918, 'rr_sus': 0.0924929529428482, 'paused': False}\n"
     ]
    }
   ],
   "source": [
    "# Steer straight and accelerate 40%\n",
    "obs, reward, terminated, truncated, info = env.step([0.0,0.4])\n",
    "\n",
    "print(obs.keys())\n",
    "print(obs['framestack'].shape)\n",
    "print(obs['telemetry'].shape)\n",
    "print(reward)\n",
    "print(terminated)\n",
    "print(truncated)\n",
    "print(info)"
   ]
  },
  {
   "cell_type": "code",
   "execution_count": 12,
   "metadata": {},
   "outputs": [
    {
     "name": "stdout",
     "output_type": "stream",
     "text": [
      "dict_keys(['framestack', 'telemetry'])\n",
      "(4, 3, 84, 84)\n",
      "(20,)\n",
      "1.3854041462764144e-05\n",
      "False\n",
      "False\n",
      "{'x': -630.8349609375, 'y': 2236.03369140625, 'z': 146.91490173339844, 'speed': 0.0006927020731382072, 'heading': 2.538309335708618, 'gear': 1, 'steerAngle': 0.0, 'brake': 0.0, 'gas': 0.0, 'normalizedCarPosition': 0.007855255156755447, 'num_wheels_off_track': 0, 'fl_ws': 0.08092942833900452, 'fr_ws': 0.060835111886262894, 'rl_ws': 0.0687725841999054, 'rr_ws': 0.07596862316131592, 'fl_sus': 0.07570245116949081, 'fr_sus': 0.0785798579454422, 'rl_sus': 0.0977826714515686, 'rr_sus': 0.09249460697174072, 'paused': False}\n"
     ]
    }
   ],
   "source": [
    "# Steer straight and brake 100%\n",
    "obs, reward, terminated, truncated, info = env.step([0.0,-1.0])\n",
    "\n",
    "print(obs.keys())\n",
    "print(obs['framestack'].shape)\n",
    "print(obs['telemetry'].shape)\n",
    "print(reward)\n",
    "print(terminated)\n",
    "print(truncated)\n",
    "print(info)"
   ]
  },
  {
   "cell_type": "code",
   "execution_count": 13,
   "metadata": {},
   "outputs": [
    {
     "name": "stdout",
     "output_type": "stream",
     "text": [
      "dict_keys(['framestack', 'telemetry'])\n",
      "(4, 3, 84, 84)\n",
      "(20,)\n",
      "1.4121229760348797e-05\n",
      "False\n",
      "False\n",
      "{'x': -630.8350219726562, 'y': 2236.033935546875, 'z': 146.91490173339844, 'speed': 0.0007060614880174398, 'heading': 2.5382633209228516, 'gear': 1, 'steerAngle': 0.0, 'brake': 0.0, 'gas': 0.0, 'normalizedCarPosition': 0.007855255156755447, 'num_wheels_off_track': 0, 'fl_ws': 0.0808376893401146, 'fr_ws': 0.06077584624290466, 'rl_ws': 0.06871894747018814, 'rr_ws': 0.076018787920475, 'fl_sus': 0.07568754255771637, 'fr_sus': 0.07856326550245285, 'rl_sus': 0.09778395295143127, 'rr_sus': 0.09249714761972427, 'paused': False}\n"
     ]
    }
   ],
   "source": [
    "# Steer straight and release brake\n",
    "obs, reward, terminated, truncated, info = env.step([0.0,0.0])\n",
    "\n",
    "print(obs.keys())\n",
    "print(obs['framestack'].shape)\n",
    "print(obs['telemetry'].shape)\n",
    "print(reward)\n",
    "print(terminated)\n",
    "print(truncated)\n",
    "print(info)"
   ]
  },
  {
   "cell_type": "code",
   "execution_count": 14,
   "metadata": {},
   "outputs": [],
   "source": [
    "env.close()"
   ]
  },
  {
   "cell_type": "code",
   "execution_count": null,
   "metadata": {},
   "outputs": [],
   "source": []
  },
  {
   "cell_type": "markdown",
   "metadata": {},
   "source": [
    "***\n",
    "### Testing reward function"
   ]
  },
  {
   "cell_type": "code",
   "execution_count": 1,
   "metadata": {},
   "outputs": [],
   "source": [
    "import numpy as np"
   ]
  },
  {
   "cell_type": "code",
   "execution_count": 8,
   "metadata": {},
   "outputs": [
    {
     "data": {
      "text/plain": [
       "array([374.04839657, 470.66917694,  37.63880379, 650.47647962])"
      ]
     },
     "execution_count": 8,
     "metadata": {},
     "output_type": "execute_result"
    }
   ],
   "source": [
    "test_arr = np.random.rand(4) * 1000\n",
    "test_arr"
   ]
  },
  {
   "cell_type": "code",
   "execution_count": 9,
   "metadata": {},
   "outputs": [
    {
     "data": {
      "text/plain": [
       "array([374.04839657, 470.66917694,  37.63880379])"
      ]
     },
     "execution_count": 9,
     "metadata": {},
     "output_type": "execute_result"
    }
   ],
   "source": [
    "test_arr[:3]"
   ]
  },
  {
   "cell_type": "code",
   "execution_count": 10,
   "metadata": {},
   "outputs": [
    {
     "data": {
      "text/plain": [
       "array([374. , 470.7,  37.6])"
      ]
     },
     "execution_count": 10,
     "metadata": {},
     "output_type": "execute_result"
    }
   ],
   "source": [
    "np.round(test_arr[:3],1)"
   ]
  },
  {
   "cell_type": "code",
   "execution_count": 11,
   "metadata": {},
   "outputs": [
    {
     "name": "stdout",
     "output_type": "stream",
     "text": [
      "Window - Assetto Corsa - not found\n"
     ]
    }
   ],
   "source": [
    "from gamestate import GameState\n",
    "\n",
    "game_state = GameState()"
   ]
  },
  {
   "cell_type": "code",
   "execution_count": 52,
   "metadata": {},
   "outputs": [
    {
     "data": {
      "text/plain": [
       "{'x': -630.8335571289062,\n",
       " 'y': 2236.0322265625,\n",
       " 'z': 146.91494750976562,\n",
       " 'speed': 0.0007289071218110621,\n",
       " 'heading': 2.5391454696655273,\n",
       " 'gear': 1,\n",
       " 'steerAngle': 0.0,\n",
       " 'brake': 0.0,\n",
       " 'gas': 0.0,\n",
       " 'normalizedCarPosition': 0.007855696603655815,\n",
       " 'num_wheels_off_track': 0,\n",
       " 'fl_ws': 0.08083964139223099,\n",
       " 'fr_ws': 0.06080349162220955,\n",
       " 'rl_ws': 0.0687691792845726,\n",
       " 'rr_ws': 0.07607407867908478,\n",
       " 'fl_sus': 0.07568536698818207,\n",
       " 'fr_sus': 0.0785638764500618,\n",
       " 'rl_sus': 0.09777912497520447,\n",
       " 'rr_sus': 0.0924910455942154,\n",
       " 'paused': False}"
      ]
     },
     "execution_count": 52,
     "metadata": {},
     "output_type": "execute_result"
    }
   ],
   "source": [
    "game_state.get_raw_telemetry()"
   ]
  },
  {
   "cell_type": "code",
   "execution_count": null,
   "metadata": {},
   "outputs": [],
   "source": [
    "def reward_function(observation, last_observation):\n",
    "    speed = observation['speed']\n",
    "    current_position = observation['normalized_track_position']\n",
    "    tyres_off_track = observation['tyres_off_track']\n",
    "\n",
    "    # Determine if the car is making progress\n",
    "    if last_observation is not None:\n",
    "        last_position = last_observation['normalized_track_position']\n",
    "        progress = current_position - last_position\n",
    "    else:\n",
    "        progress = 0\n",
    "\n",
    "    # Encourage the car to drive fast\n",
    "    speed_reward = speed\n",
    "\n",
    "    # Reward the car for making progress along the track\n",
    "    progress_reward = max(0, progress)  # Only reward for forward progress\n",
    "\n",
    "    # Penalize the car if it goes off the track\n",
    "    if tyres_off_track >= 3:\n",
    "        off_track_penalty = -100\n",
    "    else:\n",
    "        off_track_penalty = 0\n",
    "\n",
    "    # Penalize the car for going the wrong way\n",
    "    wrong_way_penalty = -100 if progress < 0 else 0\n",
    "\n",
    "    return speed_reward + progress_reward + off_track_penalty + wrong_way_penalty"
   ]
  },
  {
   "cell_type": "code",
   "execution_count": 53,
   "metadata": {},
   "outputs": [],
   "source": [
    "game_state.close()"
   ]
  },
  {
   "cell_type": "code",
   "execution_count": 72,
   "metadata": {},
   "outputs": [],
   "source": [
    "import numpy as np\n",
    "import math"
   ]
  },
  {
   "cell_type": "code",
   "execution_count": 90,
   "metadata": {},
   "outputs": [
    {
     "name": "stdout",
     "output_type": "stream",
     "text": [
      "0.525248\n",
      "0.53\n",
      "0.005\n"
     ]
    }
   ],
   "source": [
    "random_number = round(np.random.rand(),6)\n",
    "print(random_number)\n",
    "\n",
    "multiple_of_0_005 = math.ceil(random_number/0.005)\n",
    "# print(multiple_of_0_005)\n",
    "\n",
    "next_divisible_number = round(multiple_of_0_005 * 0.005, 3)\n",
    "print(f\"{next_divisible_number}\")\n",
    "print(f\"{next_divisible_number-random_number:.3f}\")"
   ]
  },
  {
   "cell_type": "code",
   "execution_count": 103,
   "metadata": {},
   "outputs": [
    {
     "name": "stdout",
     "output_type": "stream",
     "text": [
      "0.005 - 0.0000 = 0.005 => 5.0\n",
      "0.005 - 0.0005 = 0.005 => 5.0\n",
      "0.005 - 0.0010 = 0.004 => 4.0\n",
      "0.005 - 0.0015 = 0.004 => 4.0\n",
      "0.005 - 0.0020 = 0.003 => 3.0\n",
      "0.005 - 0.0025 = 0.002 => 2.0\n",
      "0.005 - 0.0030 = 0.002 => 2.0\n",
      "0.005 - 0.0035 = 0.002 => 2.0\n",
      "0.005 - 0.0040 = 0.001 => 1.0\n",
      "0.005 - 0.0045 = 0.000 => 0.0\n",
      "0.005 - 0.0050 = 0.000 => 0.0\n"
     ]
    }
   ],
   "source": [
    "t_n = 0.005\n",
    "for i in np.linspace(0, 0.005, 11):\n",
    "    print(f\"0.005 - {i:.4f} = {round(t_n - i,3):.3f} => {round(t_n - i,3)*1000}\")  "
   ]
  },
  {
   "cell_type": "code",
   "execution_count": 1,
   "metadata": {},
   "outputs": [],
   "source": [
    "from controller import GameController"
   ]
  },
  {
   "cell_type": "code",
   "execution_count": 2,
   "metadata": {},
   "outputs": [],
   "source": [
    "controller = GameController()\n",
    "\n",
    "controller.restart_session()\n",
    "\n",
    "controller.close()"
   ]
  },
  {
   "cell_type": "code",
   "execution_count": null,
   "metadata": {},
   "outputs": [],
   "source": []
  }
 ],
 "metadata": {
  "kernelspec": {
   "display_name": "torch-gpu",
   "language": "python",
   "name": "python3"
  },
  "language_info": {
   "codemirror_mode": {
    "name": "ipython",
    "version": 3
   },
   "file_extension": ".py",
   "mimetype": "text/x-python",
   "name": "python",
   "nbconvert_exporter": "python",
   "pygments_lexer": "ipython3",
   "version": "3.11.3"
  },
  "orig_nbformat": 4
 },
 "nbformat": 4,
 "nbformat_minor": 2
}
